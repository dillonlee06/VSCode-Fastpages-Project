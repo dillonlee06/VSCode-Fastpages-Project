{
 "cells": [
  {
   "attachments": {},
   "cell_type": "markdown",
   "metadata": {},
   "source": [
    "# Unit 3.14 Libraries Lesson\n",
    "> Here is our lesson about libraries!\n",
    "\n",
    "- toc: true\n",
    "- comments: true\n",
    "- categories: [CSP Notes]\n",
    "- image: /images/college-board-logo.png"
   ]
  },
  {
   "attachments": {},
   "cell_type": "markdown",
   "metadata": {},
   "source": [
    "Purpose: Help students streamline and make their coding experience easier through built in packages and methods from a library\n",
    "<br>Objective: By the end of the lesson, students should be able to fluently use methods from the turtle and math packages, and be able to look up documentation for any python package and us it."
   ]
  },
  {
   "attachments": {},
   "cell_type": "markdown",
   "metadata": {},
   "source": [
    "fill in the blanks!\n",
    "# Libraries\n",
    "Okay, so we've learned a lot of code, and all of you now can boast that you can code at least some basic programs in python. But, what about more advanced stuff? What if there's a more advanced program you don't know how to make? Do you need to make it yourself? Well, not always. \n",
    "\n",
    "You've already learned about __ functions __ that you can write to reuse in your code in previous lessons. But,there are many others who code in python just like you. So why would you do again what someone has already done, and is available for any python user? \n",
    "\n",
    "__ Packages __ allow a python user to import __ methods __ from a __ Library __, and use the methods in their code. Most libraries come with __ documentation __ on the different methods they entail and how to use them, and they can be found with a quick __ google search __. methods are used with the following: \n",
    "\n",
    "#### Note: a method from a package can only be used after the import statement. \n",
    "\n",
    "Some libraries are always installed, such as those with the __ list __ methods which we have previously discussed. But others require a special python keyword called __ import __. We will learn different ways to __ import __ in Challenge 1.\n",
    "\n",
    "Sometimes we only need to import a single __ method __ from the package. We can do that with the word __ \"from:\" __ , followed by the package name, then the word __ \"import\" __ , then the method. This will allow you to use the method without mentioning the package's name, unlike what we did before, however other methods from that package cannot be used. To get the best of both worlds you can use __ \"*\" __.\n",
    "\n",
    "To import a method as an easier name, just do what we did first, add the word __ \"as\" __, and write the name you would like to use that package as.\n",
    "\n",
    "# Challenge 1: Basic Libraries\n",
    "1. Find a python package on the internet and import it\n",
    "2. Choose a method from the package and import only the method\n",
    "3. import the package as a more convenient name."
   ]
  },
  {
   "cell_type": "code",
   "execution_count": null,
   "metadata": {},
   "outputs": [],
   "source": [
    "import pandas as pd\n",
    "from pandas import Series\n",
    "arr = Series([12, 32, 52, -15, 122])\n",
    "print(arr)\n",
    "\n",
    "print('\\nValues in this Array   : ', arr.values)\n",
    "print('Index Values of this Array : ',arr.index)"
   ]
  },
  {
   "cell_type": "code",
   "execution_count": 38,
   "metadata": {},
   "outputs": [
    {
     "data": {
      "text/plain": [
       "6"
      ]
     },
     "execution_count": 38,
     "metadata": {},
     "output_type": "execute_result"
    }
   ],
   "source": [
    "from random import randint\n",
    "randint(0,10)"
   ]
  },
  {
   "attachments": {},
   "cell_type": "markdown",
   "metadata": {},
   "source": [
    "# Challenge 2: Turtle\n",
    "Turtle is a python __ drawing __ library which allows you to draw all kinds of different shapes. It's ofter used to teach beginning python learners, but is really cool to use anywhere. Turtle employs a __ graphics package __ to display what you've done, but unfortunately it's kind of annoying to make work with vscode.\n",
    "<br>\n",
    "Use: repl.it\n",
    "<br>\n",
    "Click \"+ Create\", and for language, select \"Python (with Turtle)\"\n",
    "<br>\n",
    "[Documentation](https://docs.python.org/3/library/turtle.html#turtle.pendown)<br>\n",
    "Task: Have fun with turtle! Create something that uses at least 2 lines of different lengths and 2 turns with different angles, and changes at least one setting about either the pen or canvas. Also use one command that isn't mentioned on the table below(there are a lot). Paste a screenshot of the code and the drawing from repl.it\n",
    "\n",
    "|Commands|\n",
    "|--------|\n",
    "|forward(pixels)|\n",
    "|right(degrees)|\n",
    "|left(degrees)|\n",
    "|setpos(x,y)|\n",
    "|speed(speed)|\n",
    "|pensize(size)|\n",
    "|pencolor(color)|\n",
    "Note: Color should be within quotes, like \"brown\", or \"red\"\n",
    "\n"
   ]
  },
  {
   "cell_type": "code",
   "execution_count": null,
   "metadata": {},
   "outputs": [],
   "source": [
    "from turtle import *\n",
    "oogway = Turtle()"
   ]
  },
  {
   "attachments": {},
   "cell_type": "markdown",
   "metadata": {},
   "source": [
    "[link to screenshot](https://dillonlee06.github.io/VSCode-Fastpages-Project/csp%20assignments/2022/12/14/screenshot.html)"
   ]
  },
  {
   "attachments": {},
   "cell_type": "markdown",
   "metadata": {},
   "source": [
    "# Challenge 3: Math\n",
    "The math package allows for some really cool mathematical methods!<br>\n",
    "\n",
    "|methods|Action|\n",
    "|-------|------|\n",
    "|ceil(x)|_________decimal number will return the next highest integer_________|\n",
    "|___floor(x)___|rounds to largest integer less than or equal to x|\n",
    "|factorial(x)|_______returns the factorial_______|\n",
    "|___gcd(x,y)___|returns the greatest common denominator of x and y|\n",
    "|lcm(x,y)|____returns the least common multiple of x and y____|\n",
    "\n",
    "##### Challenge: Create a program which asks for a user input of two numbers, and returns the following:\n",
    "- each number rounded up\n",
    "- each number rounded down\n",
    "- the lcm of the rounded down numbers\n",
    "- the gcf of the rounded up numbers\n",
    "- the factorial of each number\n",
    "- something else using the math package!<br>\n",
    "[Documentation](https://docs.python.org/3/library/math.html)"
   ]
  },
  {
   "cell_type": "code",
   "execution_count": 35,
   "metadata": {},
   "outputs": [
    {
     "name": "stdout",
     "output_type": "stream",
     "text": [
      "the number 2 rounds up to 2\n",
      "the number 6 rounds up to 6\n",
      "the number 2 rounds down to 2\n",
      "the number 6 rounds down to 6\n",
      "the number 2's factorial is 2\n",
      "the number 6's factorial is 720\n",
      "the lcm of 2 and 6 is 6\n",
      "the gcd of 2 and 6 is 2\n",
      "the square root of 2 is 1.4142135623730951\n",
      "the square root of 6 is 2.449489742783178\n"
     ]
    }
   ],
   "source": [
    "from math import*\n",
    "x = input(\"Choose one number\")\n",
    "y = input(\"Choose another number\")\n",
    "print(\"the number \" + str(x) + \" rounds up to \" + str(ceil(float(x))))\n",
    "print(\"the number \" + str(y) + \" rounds up to \" + str(ceil(float(y))))\n",
    "print(\"the number \" + str(x) + \" rounds down to \" + str(floor(float(x))))\n",
    "print(\"the number \" + str(y) + \" rounds down to \" + str(floor(float(y))))\n",
    "print(\"the number \" + str(x) + \"'s factorial is \" + str(factorial(int(x))))\n",
    "print(\"the number \" + str(y) + \"'s factorial is \" + str(factorial(int(y))))\n",
    "print(\"the lcm of \" + str(x) + \" and \" + str(y) + \" is \" + str(lcm(int(x),int(y))))\n",
    "print(\"the gcd of \" + str(x) + \" and \" + str(y) + \" is \" + str(gcd(int(x),int(y))))\n",
    "print(\"the square root of \" + str(x) + \" is \" + str(sqrt(int(x))))\n",
    "print(\"the square root of \" + str(y) + \" is \" + str(sqrt(int(y))))"
   ]
  },
  {
   "attachments": {},
   "cell_type": "markdown",
   "metadata": {},
   "source": [
    "# Homework: Putting it all together(complete only after the random values lesson)\n",
    "Option 1: Create a python program which generates a random number between 1 and 10, and use turtle to draw a regular polygon with that many sides. As a hint, remember that the total sum of all the angles in a polygon is (the number of sides - 2) * 180. Note: a regular polygon has all sides and angles the same size. Paste a screenshot of the code and the drawing from repl.it\n",
    "\n",
    "Option 2: use the \"datetime\" package, and looking up documentation, create a program to generate 2 random dates and find the number of days between\n",
    "\n",
    "\n",
    "Extra ideas: customize the settings, draw a picture, or something else!"
   ]
  },
  {
   "cell_type": "code",
   "execution_count": 63,
   "metadata": {},
   "outputs": [
    {
     "name": "stdout",
     "output_type": "stream",
     "text": [
      "Date 1: 0387-12-04\n",
      "Date 2: 1390-11-02\n",
      "Number of days between Date 1 and Date 2:  366307\n"
     ]
    }
   ],
   "source": [
    "# Option 2\n",
    "import datetime\n",
    "import random\n",
    "\n",
    "# Generate two random dates\n",
    "date1 = datetime.date(random.randint(0000, 2022), random.randint(1, 12), random.randint(1, 28))\n",
    "date2 = datetime.date(random.randint(0000, 2022), random.randint(1, 12), random.randint(1, 28))\n",
    "\n",
    "# Print the two dates\n",
    "print(\"Date 1:\", date1)\n",
    "print(\"Date 2:\", date2)\n",
    "\n",
    "# Calculate the difference between the two dates and makes it a positive number\n",
    "difference = abs(date2 - date1)\n",
    "\n",
    "# Print the number of days between the two dates\n",
    "print(\"Number of days between Date 1 and Date 2: \", difference.days)"
   ]
  }
 ],
 "metadata": {
  "kernelspec": {
   "display_name": "Python 3.10.6 64-bit",
   "language": "python",
   "name": "python3"
  },
  "language_info": {
   "codemirror_mode": {
    "name": "ipython",
    "version": 3
   },
   "file_extension": ".py",
   "mimetype": "text/x-python",
   "name": "python",
   "nbconvert_exporter": "python",
   "pygments_lexer": "ipython3",
   "version": "3.10.6"
  },
  "orig_nbformat": 4,
  "vscode": {
   "interpreter": {
    "hash": "b0fa6594d8f4cbf19f97940f81e996739fb7646882a419484c72d19e05852a7e"
   }
  }
 },
 "nbformat": 4,
 "nbformat_minor": 2
}
