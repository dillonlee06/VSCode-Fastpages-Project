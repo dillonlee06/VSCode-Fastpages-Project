{
 "cells": [
  {
   "attachments": {},
   "cell_type": "markdown",
   "metadata": {},
   "source": [
    "# Unit 3 Vocab\n",
    "\n",
    "\n",
    "- title: Unit 3 Vocab\n",
    "- toc: true\n",
    "- comments: false\n",
    "- categories: [CSP Notes, Presentation Notes]"
   ]
  },
  {
   "cell_type": "markdown",
   "metadata": {},
   "source": [
    "# Variables, Data Types, Assignment Operators\n",
    "\n",
    "- Variables: Abstractions in programs that represent a value\n",
    "- Data Types: Numbers (integers, 123), Booleans (t/f), lists (items held in an order), strings (letters/words)\n",
    "- Assignment Operators: \n",
    "\n",
    "<table>\n",
    "    <tr>\n",
    "        <th>Function</th>\n",
    "        <th>Operator</th>\n",
    "    </tr>\n",
    "    <tr>\n",
    "        <td>greater than</td>\n",
    "        <td>></td>\n",
    "    </tr>\n",
    "    <tr>\n",
    "        <td>less than</td>\n",
    "        <td><</td>\n",
    "    </tr>\n",
    "    <tr>\n",
    "        <td>greater than or equal to</td>\n",
    "        <td>>=</td>\n",
    "    </tr>\n",
    "    <tr>\n",
    "        <td>less than or equal to</td>\n",
    "        <td><=</td>\n",
    "    </tr>\n",
    "    <tr>\n",
    "        <td>equal to</td>\n",
    "        <td>==</td>\n",
    "    </tr>\n",
    "    <tr>\n",
    "        <td>not equal to</td>\n",
    "        <td>!=</td>\n",
    "    </tr>\n",
    "    <tr>\n",
    "        <td>exponent</td>\n",
    "        <td>**</td>\n",
    "    </tr>\n",
    "    <tr>\n",
    "        <td>addition</td>\n",
    "        <td>+</td>\n",
    "    </tr>\n",
    "    <tr>\n",
    "        <td>subtraction</td>\n",
    "        <td>-</td>\n",
    "    </tr>\n",
    "    <tr>\n",
    "        <td>multiplication</td>\n",
    "        <td>*</td>\n",
    "    </tr>\n",
    "    <tr>\n",
    "        <td>division</td>\n",
    "        <td>/</td>\n",
    "    </tr>\n",
    "    <tr>\n",
    "        <td>modulus: x & y = x - (x/y) * y</td>\n",
    "        <td>%</td>\n",
    "    </tr>\n",
    "    <tr>\n",
    "        <td>Equal sign usage</td>\n",
    "        <td>=, +=, -=, *=, /=, %= | EX: x+=10 is x = x + 10</td>\n",
    "    </tr>\n",
    "</table>\n"
   ]
  },
  {
   "cell_type": "code",
   "execution_count": 1,
   "metadata": {},
   "outputs": [
    {
     "name": "stdout",
     "output_type": "stream",
     "text": [
      "20\n",
      "100\n"
     ]
    }
   ],
   "source": [
    "# PYTHON example usage of variables, numbers, assignment operators (multiply/exponent)\n",
    "number = 10  #defining the variable to number 10\n",
    "x = number ** 2  #defining another variable by using that number variable\n",
    "print(number*2)  # multiplying a variable by 2\n",
    "print(x) # printing the second defined variable"
   ]
  },
  {
   "cell_type": "markdown",
   "metadata": {},
   "source": [
    "# Managing Complexity with Variables:  Lists, 2D Lists, Dictionaries, Class\n",
    "Lists: A collection of items in an order\n",
    "2D Lists: A list containing other lists\n",
    "Dictionaries: Similar to a list but the items in the collection are assigned a value\n",
    "Class: Template for objects which defines behaviors of objects and organizes it"
   ]
  },
  {
   "cell_type": "code",
   "execution_count": 3,
   "metadata": {},
   "outputs": [
    {
     "name": "stdout",
     "output_type": "stream",
     "text": [
      "[[1, 2, 3], [4, 5, 6], [7, 8, 9], [' ', 0, ' ']]\n"
     ]
    }
   ],
   "source": [
    "# PYTHON 2D list example\n",
    "keypad =   [[1, 2, 3],\n",
    "            [4, 5, 6],\n",
    "            [7, 8, 9],\n",
    "            [\" \", 0, \" \"]]\n",
    "print (keypad)"
   ]
  },
  {
   "cell_type": "code",
   "execution_count": 1,
   "metadata": {
    "vscode": {
     "languageId": "javascript"
    }
   },
   "outputs": [
    {
     "name": "stdout",
     "output_type": "stream",
     "text": [
      "[ 'NAME 1', 'NAME 2', 'NAME 3', 'NAME 4' ]\n"
     ]
    }
   ],
   "source": [
    "// JAVASCRIPT example using variables and lists\n",
    "const group = [\n",
    "    \"NAME 1\", \n",
    "    \"NAME 2\", \n",
    "    \"NAME 3\", \n",
    "    \"NAME 4\"\n",
    "]; \n",
    "console.log(group);"
   ]
  },
  {
   "cell_type": "code",
   "execution_count": 2,
   "metadata": {
    "vscode": {
     "languageId": "javascript"
    }
   },
   "outputs": [
    {
     "name": "stdout",
     "output_type": "stream",
     "text": [
      "{ key1: 'value1', key2: 'value2', key3: 'value3' }\n"
     ]
    }
   ],
   "source": [
    "// JAVASCRIPT example of a dictionary\n",
    "\n",
    "const myDictionary = {\n",
    "    key1: \"value1\",\n",
    "    key2: \"value2\",\n",
    "    key3: \"value3\"\n",
    "  };\n",
    "  console.log(myDictionary);"
   ]
  },
  {
   "cell_type": "markdown",
   "metadata": {},
   "source": [
    "# Algorithms, Sequence, Selection, Iteration\n",
    "- Algorithms: A series of operations that completes a task/solves a problem \n",
    "- Sequence: Sequence is the order in which commands are executed \n",
    "- Selection: Determines which \"path\" of operations a program will run\n",
    "- Iteration: Iteration is repetition - it is a way to repeat a function over and over until a condition is met rather than copy pasting the function"
   ]
  },
  {
   "cell_type": "code",
   "execution_count": 1,
   "metadata": {},
   "outputs": [
    {
     "name": "stdout",
     "output_type": "stream",
     "text": [
      "16\n",
      "128\n",
      "1024\n",
      "8192\n"
     ]
    }
   ],
   "source": [
    "# PYTHON example that will multiply 2 by 8 four times in a while loop rather than copy pasting the function four times (Iteration/Algorithm)\n",
    "number = 2\n",
    "def multiplyby8_4times(num):\n",
    "    i = 0 \n",
    "    while i < 4: \n",
    "        num = num * 8\n",
    "        print(num)\n",
    "        i += 1 \n",
    "multiplyby8_4times(number)"
   ]
  },
  {
   "cell_type": "markdown",
   "metadata": {},
   "source": [
    "# Expressions, Comparison Operators, Booleans Expressions and Selection, Booleans \n",
    "- Expressions: A combination of operators (functions) and operands (numbers) that produces an output value\n",
    "- Booleans Expressions and Selection: expression is a logical statement that is either true or false / selection is the procedure to get the output\n",
    "- Booleans: functions that produce True or False outputs\n",
    "- Comparison Operators:\n",
    "\n",
    "<table>\n",
    "    <tr>\n",
    "        <th>Function</th>\n",
    "        <th>Operator</th>\n",
    "    </tr>\n",
    "    <tr>\n",
    "        <td>greater than</td>\n",
    "        <td>></td>\n",
    "    </tr>\n",
    "    <tr>\n",
    "        <td>less than</td>\n",
    "        <td><</td>\n",
    "    </tr>\n",
    "    <tr>\n",
    "        <td>greater than or equal to</td>\n",
    "        <td>>=</td>\n",
    "    </tr>\n",
    "    <tr>\n",
    "        <td>less than or equal to</td>\n",
    "        <td><=</td>\n",
    "    </tr>\n",
    "    <tr>\n",
    "        <td>equal to</td>\n",
    "        <td>==</td>\n",
    "    </tr>\n",
    "    <tr>\n",
    "        <td>not equal to</td>\n",
    "        <td>!=</td>\n",
    "    </tr>\n",
    "</table>"
   ]
  },
  {
   "cell_type": "code",
   "execution_count": 1,
   "metadata": {
    "vscode": {
     "languageId": "javascript"
    }
   },
   "outputs": [
    {
     "data": {
      "text/plain": [
       "false"
      ]
     },
     "execution_count": 1,
     "metadata": {},
     "output_type": "execute_result"
    }
   ],
   "source": [
    "// JAVASCRIPT example using variables, less than operators and boolean\n",
    "const w = 4\n",
    "const q = 1\n",
    "Boolean(w < q)"
   ]
  },
  {
   "attachments": {},
   "cell_type": "markdown",
   "metadata": {},
   "source": [
    "# Expressions and Iteration, Truth Tables\n",
    "- Expressions: Combination of operators and values to produce a new value\n",
    "- Iteration: Repetition, repeat a function over and over using a loop until a condition is met rather than copy pasting the function\n",
    "- Truth Tables: A mathematical table that is used to represent the truth values of a logical expression\n"
   ]
  },
  {
   "cell_type": "code",
   "execution_count": 1,
   "metadata": {},
   "outputs": [
    {
     "name": "stdout",
     "output_type": "stream",
     "text": [
      "1 times 2 is equal to 2.\n",
      "2 times 2 is equal to 4.\n",
      "3 times 2 is equal to 6.\n",
      "4 times 2 is equal to 8.\n"
     ]
    }
   ],
   "source": [
    "# Another PYTHON iteration example \n",
    "numlist = [1, 2, 3, 4] \n",
    "for number in numlist:\n",
    "    prod = number * 2\n",
    "    print(str(number), \"times 2 is equal to\", str(prod) + \".\")"
   ]
  },
  {
   "attachments": {},
   "cell_type": "markdown",
   "metadata": {},
   "source": [
    "# Characters\n",
    "Characters: Letters that make up words. "
   ]
  },
  {
   "cell_type": "code",
   "execution_count": 37,
   "metadata": {},
   "outputs": [
    {
     "name": "stdout",
     "output_type": "stream",
     "text": [
      "['a, b, c, d, e, f']\n"
     ]
    }
   ],
   "source": [
    "Letters = [\"a, b, c, d, e, f\"]\n",
    "\n",
    "print(Letters)"
   ]
  },
  {
   "attachments": {},
   "cell_type": "markdown",
   "metadata": {},
   "source": [
    "# Strings\n",
    "Strings: Sequence of characters that represent text."
   ]
  },
  {
   "cell_type": "code",
   "execution_count": 38,
   "metadata": {},
   "outputs": [
    {
     "name": "stdout",
     "output_type": "stream",
     "text": [
      "['apple, banana, carrot']\n"
     ]
    }
   ],
   "source": [
    "strings = [\"apple, banana, carrot\"]\n",
    "\n",
    "print(strings)"
   ]
  },
  {
   "attachments": {},
   "cell_type": "markdown",
   "metadata": {},
   "source": [
    "# Length\n",
    "Length: The amount of characters in a string. "
   ]
  },
  {
   "cell_type": "code",
   "execution_count": 39,
   "metadata": {},
   "outputs": [
    {
     "name": "stdout",
     "output_type": "stream",
     "text": [
      "hellobye\n",
      "8\n",
      "hello\n",
      "bye\n"
     ]
    }
   ],
   "source": [
    "string = \"hellobye\"\n",
    "x = string[0:8]\n",
    "y = string[0:5]\n",
    "z = string[5:8]\n",
    "print(x)\n",
    "print(len(string))\n",
    "print(y)\n",
    "print(z)"
   ]
  },
  {
   "attachments": {},
   "cell_type": "markdown",
   "metadata": {},
   "source": [
    "# Concatenation\n",
    "Concatenation: combination of strings to make sentences. "
   ]
  },
  {
   "cell_type": "code",
   "execution_count": 40,
   "metadata": {},
   "outputs": [
    {
     "name": "stdout",
     "output_type": "stream",
     "text": [
      "Hello how are you? Im good!\n"
     ]
    }
   ],
   "source": [
    "string1 = (\"Hello how are you?\")\n",
    "string2 = (\"Im good!\")\n",
    "\n",
    "print(string1, string2)"
   ]
  },
  {
   "cell_type": "code",
   "execution_count": 2,
   "metadata": {},
   "outputs": [
    {
     "name": "stdout",
     "output_type": "stream",
     "text": [
      "computer science\n"
     ]
    }
   ],
   "source": [
    "#string1 + string2 will add string2 to the end of string1\n",
    "\n",
    "string1 = \"computer\"\n",
    "string2 = \"science\"\n",
    "string3 = string1 + \" \" + string2\n",
    "print(string3)"
   ]
  },
  {
   "cell_type": "code",
   "execution_count": null,
   "metadata": {},
   "outputs": [],
   "source": [
    "# Traversing Strings\n",
    "Traversing Strings: Iterate over the characters in teh string. "
   ]
  },
  {
   "cell_type": "code",
   "execution_count": 41,
   "metadata": {},
   "outputs": [
    {
     "name": "stdout",
     "output_type": "stream",
     "text": [
      "H\n",
      "e\n",
      "l\n",
      "l\n",
      "o\n",
      ",\n",
      " \n",
      "h\n",
      "o\n",
      "w\n",
      " \n",
      "a\n",
      "r\n",
      "e\n",
      " \n",
      "y\n",
      "o\n",
      "u\n",
      "?\n"
     ]
    }
   ],
   "source": [
    "greeting = \"Hello, how are you?\"\n",
    "for o in greeting:\n",
    "    print(o)"
   ]
  },
  {
   "attachments": {},
   "cell_type": "markdown",
   "metadata": {},
   "source": [
    "# Python if\n",
    "Python if: An if statement is used when you want something to happen IF another thing has occurred. "
   ]
  },
  {
   "cell_type": "code",
   "execution_count": 6,
   "metadata": {},
   "outputs": [
    {
     "name": "stdout",
     "output_type": "stream",
     "text": [
      "x is 1\n"
     ]
    }
   ],
   "source": [
    "x = 1\n",
    "\n",
    "if x == 1:\n",
    "    print(\"x is 1\")"
   ]
  },
  {
   "attachments": {},
   "cell_type": "markdown",
   "metadata": {},
   "source": [
    "# Elif\n",
    "Elif: It stands for else if, this is used when the first statement is false but you want to check for another condition. "
   ]
  },
  {
   "cell_type": "code",
   "execution_count": 7,
   "metadata": {},
   "outputs": [
    {
     "name": "stdout",
     "output_type": "stream",
     "text": [
      "price is 100\n"
     ]
    }
   ],
   "source": [
    "price = 100\n",
    "\n",
    "if price > 100:\n",
    "    print(\"price is greater than 100\")\n",
    "elif price == 100:\n",
    "    print(\"price is 100\")\n",
    "elif price < 100:\n",
    "    print(\"price is less than 100\")"
   ]
  },
  {
   "attachments": {},
   "cell_type": "markdown",
   "metadata": {},
   "source": [
    "# Else Conditional\n",
    "Else Conditional: This is used when the first statement is false so you want to run another statement. "
   ]
  },
  {
   "cell_type": "code",
   "execution_count": 19,
   "metadata": {},
   "outputs": [
    {
     "name": "stdout",
     "output_type": "stream",
     "text": [
      "Good evening\n"
     ]
    }
   ],
   "source": [
    "hour = 19\n",
    "if (hour < 18):\n",
    "  greeting = (\"Good day\")\n",
    "else:\n",
    "  greeting = (\"Good evening\")\n",
    "\n",
    "print (greeting)"
   ]
  },
  {
   "attachments": {},
   "cell_type": "markdown",
   "metadata": {},
   "source": [
    "# Nested Selection Statement\n",
    "Nested selection statements: whenever selection statements are inside another selection statement. "
   ]
  },
  {
   "cell_type": "code",
   "execution_count": 23,
   "metadata": {},
   "outputs": [
    {
     "name": "stdout",
     "output_type": "stream",
     "text": [
      "it is 19 hours\n"
     ]
    }
   ],
   "source": [
    "hour = 19\n",
    "if hour > 15:\n",
    "    if hour == 15:\n",
    "        print(\"it is 15 hours\")\n",
    "    elif hour == 16:\n",
    "        print(\"it is 16 hours\")\n",
    "    elif hour == 17:\n",
    "        print(\"it is 17 hours\")\n",
    "    elif hour == 18:\n",
    "        print(\"it is 18 hours\")\n",
    "    elif hour == 19:\n",
    "        print(\"it is 19 hours\")"
   ]
  },
  {
   "attachments": {},
   "cell_type": "markdown",
   "metadata": {},
   "source": [
    "# While loops with range\n",
    "While loops with range: While loop is code that keeps running until a certain condition is met, the range would cause only the things in that range to print. "
   ]
  },
  {
   "cell_type": "code",
   "execution_count": 24,
   "metadata": {},
   "outputs": [
    {
     "name": "stdout",
     "output_type": "stream",
     "text": [
      "1\n",
      "2\n",
      "3\n",
      "4\n",
      "5\n",
      "6\n",
      "7\n",
      "8\n",
      "9\n",
      "10\n"
     ]
    }
   ],
   "source": [
    "for num in range(1, 11):\n",
    "\n",
    "    print(num)"
   ]
  },
  {
   "attachments": {},
   "cell_type": "markdown",
   "metadata": {},
   "source": [
    "# With lists combining loops with conditionals to break:\n",
    "With lists combining loops with conditionals to break: first create a list, then use a loop so it stops when it reaches a certain number in the list. "
   ]
  },
  {
   "cell_type": "code",
   "execution_count": 28,
   "metadata": {},
   "outputs": [
    {
     "name": "stdout",
     "output_type": "stream",
     "text": [
      "7\n"
     ]
    }
   ],
   "source": [
    "numbers = [1, 2, 3, 4, 5, 6, 7, 8, 9, 10]\n",
    "\n",
    "for number in numbers:\n",
    "    if number == 7:\n",
    "        break\n",
    "\n",
    "print(number)"
   ]
  },
  {
   "attachments": {},
   "cell_type": "markdown",
   "metadata": {},
   "source": [
    "# Continue procedural abstraction\n",
    "Continue procedural abstraction: Variables are first defined, then later they are used again to solve the problem. "
   ]
  },
  {
   "cell_type": "code",
   "execution_count": 32,
   "metadata": {},
   "outputs": [
    {
     "name": "stdout",
     "output_type": "stream",
     "text": [
      "18\n"
     ]
    }
   ],
   "source": [
    "def multiply(x, y):\n",
    "    return x * y\n",
    "\n",
    "x = 3\n",
    "y = 6\n",
    "\n",
    "print(multiply(x, y))"
   ]
  },
  {
   "attachments": {},
   "cell_type": "markdown",
   "metadata": {},
   "source": [
    "# Python def procedures\n",
    "python def procedures: allows you to define a procedure so you can use it more efficiently later on. "
   ]
  },
  {
   "cell_type": "code",
   "execution_count": 4,
   "metadata": {},
   "outputs": [],
   "source": [
    "def multiply(x, y):\n",
    "    return x * y\n",
    "\n"
   ]
  },
  {
   "attachments": {},
   "cell_type": "markdown",
   "metadata": {},
   "source": [
    "# Parameters\n",
    "Parameters: Its a variable/placeholder for the values of a function. "
   ]
  },
  {
   "cell_type": "code",
   "execution_count": 3,
   "metadata": {},
   "outputs": [],
   "source": [
    "def add(x, y): \n",
    "    return x + y # in this case the parameter is x and y\n"
   ]
  },
  {
   "attachments": {},
   "cell_type": "markdown",
   "metadata": {},
   "source": [
    "# Return values\n",
    "Return values: the value that function returns to when it wants to recall a variable. "
   ]
  },
  {
   "cell_type": "code",
   "execution_count": 5,
   "metadata": {},
   "outputs": [
    {
     "name": "stdout",
     "output_type": "stream",
     "text": [
      "9\n",
      "18\n"
     ]
    }
   ],
   "source": [
    "def add(x, y):\n",
    "    return x + y\n",
    "\n",
    "x = 3\n",
    "y = 6\n",
    "\n",
    "print(add(x, y)) # recalls a variable previously defined\n",
    "print(multiply(x, y)) # recalls a procedure previously defined"
   ]
  }
 ],
 "metadata": {
  "kernelspec": {
   "display_name": "Python 3.8.9 64-bit",
   "language": "python",
   "name": "python3"
  },
  "language_info": {
   "codemirror_mode": {
    "name": "ipython",
    "version": 3
   },
   "file_extension": ".py",
   "mimetype": "text/x-python",
   "name": "python",
   "nbconvert_exporter": "python",
   "pygments_lexer": "ipython3",
   "version": "3.8.9"
  },
  "orig_nbformat": 4,
  "vscode": {
   "interpreter": {
    "hash": "31f2aee4e71d21fbe5cf8b01ff0e069b9275f58929596ceb00d14d90e3e16cd6"
   }
  }
 },
 "nbformat": 4,
 "nbformat_minor": 2
}
