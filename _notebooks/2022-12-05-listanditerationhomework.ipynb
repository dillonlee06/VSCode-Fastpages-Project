{
 "cells": [
  {
   "cell_type": "markdown",
   "metadata": {},
   "source": [
    "# Unit 3.8 and 3.10 Lists and Iteration Note\n",
    "\n",
    "- toc:true\n",
    "- branch: master\n",
    "- badges: true\n",
    "- comments: true\n",
    "- author: Dillon Lee\n",
    "- categories: [CSP Notes]"
   ]
  },
  {
   "cell_type": "markdown",
   "metadata": {},
   "source": [
    "## Overview and Notes:  3.10 - Lists\n",
    "- Make sure you complete the challenge in the challenges section while we present the lesson! \n",
    "\n",
    "Add your <mark>OWN</mark> Notes for 3.10 here: \n",
    "\n",
    "\n",
    "Fill out the empty boxes: \n",
    "\n",
    "|   Pseudocode Operation  | Python Syntax |                                                           Description                                                          |\n",
    "|:-----------------------:|---------------|:------------------------------------------------------------------------------------------------------------------------------:|\n",
    "|         aList[i]        |       aList[i]        | _Accesses the element of aList at index i_                                                                                     |\n",
    "|       x ← aList[i]      |       x = aList(i)        | _Assigns the element of aList at index i <br>to a variable 'x'_                                                                |\n",
    "|       aList[i] ← x      |      aList(i) = x         | _Assigns the value of a variable 'x' to <br>the element of a List at index i_                                                  |\n",
    "|   aList[i] ← aList[j]   |       aList[i] = aList[j]        | _Assigns value of aList[j] to aList[i]_                                                                                        |\n",
    "| INSERT(aList, i, value) |       aList.insert(i, value)        | _value is placed at index i in aList. Any <br>element at an index greater than i will shift<br>one position to the right. _    |\n",
    "|   APPEND(aList, value)  |      aList.append(value)         | value is added as an element to the end of aList and length of aList is increased by 1 |\n",
    "|     REMOVE(aList, i)    |      aList.pop(i)<br>OR<br>aList.remove(value)         | _Removes item at index i and any values at <br>indices greater than i shift to the left. <br>Length of aList decreased by 1. _ |\n"
   ]
  },
  {
   "cell_type": "markdown",
   "metadata": {},
   "source": [
    "## Overview and Notes:  3.8 - Iteration\n",
    "\n",
    "Add your <mark>OWN</mark> Notes for 3.8 here: \n",
    "> Notes:\n",
    "\n",
    "- Iteration is repetition: it is a way to repeat a function over and over until a condition is met rather than copy pasting the function\n",
    "- Can use loops such as while loop or for loop or recursive loops\n",
    "- Recursive loops utilize if/else functions\n",
    "- append()  pop() insert() adds new things to a list or removes them.\n",
    "- Lists are a collection of data values \n",
    "- Index is the number assigned with the data values in the list: most start with 0\n",
    "- Iteration = number of times a function repeats to complete the task\n",
    "- Iteration and loops go together: makes code more organized and easy"
   ]
  },
  {
   "cell_type": "markdown",
   "metadata": {},
   "source": [
    "## Iteration example/notes"
   ]
  },
  {
   "cell_type": "code",
   "execution_count": 10,
   "metadata": {},
   "outputs": [
    {
     "name": "stdout",
     "output_type": "stream",
     "text": [
      "Multiplying 2 by 8 four times:\n",
      "16\n",
      "128\n",
      "1024\n",
      "8192\n"
     ]
    }
   ],
   "source": [
    "number = 2\n",
    "def multiplyby8(num):\n",
    "    global newnum\n",
    "    newnum = num * 8\n",
    "    print(newnum)\n",
    "\n",
    "print('Multiplying', number, 'by 8 four times:')\n",
    "multiplyby8(number)\n",
    "multiplyby8(newnum)\n",
    "multiplyby8(newnum)\n",
    "multiplyby8(newnum) #copy pasting function is bad"
   ]
  },
  {
   "cell_type": "code",
   "execution_count": 11,
   "metadata": {},
   "outputs": [
    {
     "name": "stdout",
     "output_type": "stream",
     "text": [
      "Multiplying 2 by 8 four times:\n",
      "16\n",
      "128\n",
      "1024\n",
      "8192\n"
     ]
    }
   ],
   "source": [
    "# WHILE LOOP\n",
    "number = 2\n",
    "def multiplyby8_4times(num):\n",
    "    print('Multiplying', num, 'by 8 four times:')\n",
    "    i = 0 #i starts at 0\n",
    "    while i < 4: #the function will repeat until i >= 4 (repeat until condition: 2*8 four times is met)\n",
    "        num = num * 8\n",
    "        print(num)\n",
    "        i += 1 #i increments each time\n",
    "multiplyby8_4times(number)"
   ]
  },
  {
   "cell_type": "code",
   "execution_count": 12,
   "metadata": {},
   "outputs": [
    {
     "name": "stdout",
     "output_type": "stream",
     "text": [
      "1 times 2 is equal to 2.\n",
      "2 times 2 is equal to 4.\n",
      "3 times 2 is equal to 6.\n",
      "4 times 2 is equal to 8.\n"
     ]
    }
   ],
   "source": [
    "# FOR LOOP\n",
    "numlist = [1, 2, 3, 4] #more numbers = increase the amount of times it iterates\n",
    "#since numlist is a list of single numbers, it understands 'number' as each number\n",
    "for number in numlist:\n",
    "    prod = number * 2\n",
    "    print(str(number), \"times 2 is equal to\", str(prod) + \".\")"
   ]
  },
  {
   "cell_type": "code",
   "execution_count": 21,
   "metadata": {},
   "outputs": [
    {
     "name": "stdout",
     "output_type": "stream",
     "text": [
      "Benjamin\n",
      "Franklin\n",
      "Lightbulbs\n",
      "Kites\n",
      "Scams\n",
      "---\n",
      "Things associated with Benjamin Franklin:\n",
      "Lightbulbs\n",
      "Kites\n",
      "Scams\n"
     ]
    }
   ],
   "source": [
    "# RECURSIVE LOOP\n",
    "list = [\"Benjamin\", \"Franklin\", \"Lightbulbs\", \"Kites\", \"Scams\"]\n",
    "def recursive_loop(i):\n",
    "    if i < len(list):\n",
    "        print(list[i])\n",
    "        recursive_loop(i+1)\n",
    "    else:\n",
    "        return\n",
    "# This will print the whole list\n",
    "recursive_loop(0) # everything in the list\n",
    "print(\"---\")\n",
    "# This will print only the last three things\n",
    "print(\"Things associated with Benjamin Franklin:\")\n",
    "recursive_loop(2) # everything after \"Franklin\" in the list"
   ]
  },
  {
   "cell_type": "markdown",
   "metadata": {},
   "source": [
    "## Homework Assignment\n",
    "\n",
    "Instead of us making a quiz for you to take, we would like YOU to make a quiz about the material we reviewed.\n",
    "\n",
    "We would like you to <mark>input questions into a list</mark>, and use some sort of iterative system to print the questions, detect an input, and determine if you answered correctly. There should be *at least* <mark>five questions</mark>, each with *at least* <mark>three possible answers</mark>.\n",
    "\n",
    "You may use the template below as a framework for this assignment."
   ]
  },
  {
   "cell_type": "code",
   "execution_count": 130,
   "metadata": {},
   "outputs": [
    {
     "name": "stdout",
     "output_type": "stream",
     "text": [
      "('Question 1: What is iteration?', '1. Repetition', '2. A coding language', '3. A type of loop')\n",
      "You said the answer was 2\n",
      "It is incorrect\n",
      "('Question 2: How loops were covered in the lesson?', '1. while loop, for loop, recursive loop', '2. if loop, else loop, while loop', '3. number loop, string loop, boolean loop')\n",
      "You said the answer was 2\n",
      "It is incorrect\n",
      "('Question 3: What is a list?', '1. A collection of data values', '2. Numbered elements in rows on a sheet of paper', '3. Multiple lines of code')\n",
      "You said the answer was 2\n",
      "It is incorrect\n",
      "('Question 4: What is an index?', '1. The assigned numbers with data values in a list', '2. A type of file', '3. A type of loop')\n",
      "You said the answer was 2\n",
      "It is incorrect\n",
      "('Question 5: What type of brackets make a list?', '1. []', '2. ()', '3. {}')\n",
      "You said the answer was 2\n",
      "It is incorrect\n",
      "Your final score is: 0/5\n"
     ]
    }
   ],
   "source": [
    "questions = [\n",
    "    (\"Question 1: What is iteration?\",\n",
    "    \"1. Repetition\", \n",
    "    \"2. A coding language\", \n",
    "    \"3. A type of loop\", \n",
    "    ),\n",
    "    (\"Question 2: How loops were covered in the lesson?\",\n",
    "    \"1. while loop, for loop, recursive loop\", \n",
    "    \"2. if loop, else loop, while loop\", \n",
    "    \"3. number loop, string loop, boolean loop\", \n",
    "    ),\n",
    "    (\"Question 3: What is a list?\",\n",
    "    \"1. A collection of data values\", \n",
    "    \"2. Numbered elements in rows on a sheet of paper\", \n",
    "    \"3. Multiple lines of code\", \n",
    "    ),\n",
    "    (\"Question 4: What is an index?\",\n",
    "    \"1. The assigned numbers with data values in a list\", \n",
    "    \"2. A type of file\", \n",
    "    \"3. A type of loop\", \n",
    "    ),\n",
    "    (\"Question 5: What type of brackets make a list?\",\n",
    "    \"1. []\", \n",
    "    \"2. ()\", \n",
    "    \"3. {}\", \n",
    "    )\n",
    "]\n",
    "\n",
    "score = 0\n",
    "msg = int(input())\n",
    "\n",
    "def recursive_loop(i):\n",
    "    if i < len(questions):\n",
    "        print(questions[i])\n",
    "        input(\"What is your answer\")\n",
    "        print(\"You said the answer was \" + str(msg))\n",
    "        if int(msg) == 1:\n",
    "            print(\"It is correct\")\n",
    "            score + 1\n",
    "        else:\n",
    "            print(\"It is incorrect\")\n",
    "        recursive_loop(i+1)\n",
    "    else:\n",
    "        return\n",
    "recursive_loop(0) \n",
    "print(\"Your final score is: \" + str(score) + \"/5\")"
   ]
  },
  {
   "cell_type": "markdown",
   "metadata": {},
   "source": [
    "# Difficulties\n",
    "\n",
    "- originally tried to use code similar to last trimester's python quiz but since the requirements of a multiple choice answers was on this one, I couldn't\n",
    "- originally didn't have the () in the list which made it difficult for me to code the outputting of the questions to the user\n",
    "- had trouble with the loops as I originally tried to use a for and a while loop which I couldn't figure out\n",
    "- used the presentation's recursive loop examples to help me create the quiz\n",
    "- had various issues involving the correct/incorrect with the multiple choice as the multiple choice used to be a,b,c\n",
    "- changed to 1, 2, 3 but then had difficulties again revolving around str vs int but was able to fix that\n",
    "- eventually referenced the scoring system from last tri's Python quiz\n",
    "- errors with the score system involving the variable being \"referenced before assignment\""
   ]
  },
  {
   "cell_type": "code",
   "execution_count": null,
   "metadata": {},
   "outputs": [],
   "source": [
    "# Define a list of questions and answers\n",
    "questions = [\n",
    "    \"What is the capital of France?\",\n",
    "    \"What is the largest planet in our solar system?\",\n",
    "    \"What is the chemical symbol for hydrogen?\",\n",
    "    \"Who wrote the novel 'War and Peace'?\"\n",
    "]\n",
    "answers = [\n",
    "    \"Paris\",\n",
    "    \"Jupiter\",\n",
    "    \"H\",\n",
    "    \"Leo Tolstoy\"\n",
    "]\n",
    "\n",
    "# Initialize the score to 0\n",
    "score = 0\n",
    "\n",
    "# Ask the questions and check the answers\n",
    "for i in range(len(questions)):\n",
    "    print(questions[i])\n",
    "    print(\"A) \" + answers[i])\n",
    "    print(\"B) \" + answers[(i + 1) % len(questions)])\n",
    "    print(\"C) \" + answers[(i + 2) % len(questions)])\n",
    "    print(\"D) \" + answers[(i + 3) % len(questions)])\n",
    "    user_answer = input(\"Enter your choice: \")\n",
    "    if user_answer.lower() == \"a\":\n",
    "        score += 1\n",
    "\n",
    "# Print the final score\n",
    "print(\"Your score is: \" + str(score) + \"/5\")"
   ]
  },
  {
   "cell_type": "markdown",
   "metadata": {},
   "source": [
    "### Hacks\n",
    "\n",
    "Here are some ideas of things you can do to make your program even cooler. Doing these will raise your grade if done correctly.\n",
    "\n",
    "- Add more than five questions with more than three answer choices\n",
    "- Randomize the order in which questions/answers are output\n",
    "- At the end, display the user's score and determine whether or not they passed\n",
    "\n",
    "## Challenges\n",
    "\n",
    "<mark>Important!</mark> You don't have to complete these challenges completely perfectly, but you will be marked down if you don't show evidence of at least having tried these challenges in the time we gave during the lesson.\n",
    "\n",
    "### 3.10 Challenge\n",
    "\n",
    "Follow the instructions in the code comments."
   ]
  },
  {
   "cell_type": "code",
   "execution_count": 132,
   "metadata": {},
   "outputs": [
    {
     "name": "stdout",
     "output_type": "stream",
     "text": [
      "What is the capital of France?\n",
      "A) Paris\n",
      "B) Jupiter\n",
      "C) H\n",
      "D) Leo Tolstoy\n",
      "What is the largest planet in our solar system?\n",
      "A) Jupiter\n",
      "B) H\n",
      "C) Leo Tolstoy\n",
      "D) Paris\n",
      "What is the chemical symbol for hydrogen?\n",
      "A) H\n",
      "B) Leo Tolstoy\n",
      "C) Paris\n",
      "D) Jupiter\n",
      "Who wrote the novel 'War and Peace'?\n",
      "A) Leo Tolstoy\n",
      "B) Paris\n",
      "C) Jupiter\n",
      "D) H\n",
      "Your score is: 1\n"
     ]
    }
   ],
   "source": [
    "grocery_list = ['apples', 'milk', 'oranges', 'carrots', 'cucumbers']\n",
    "# 1\n",
    "# Print the fourth item in the list\n",
    "print(grocery_list[3]) # 3 b/c apples is 0 in python\n",
    "\n",
    "# 2\n",
    "# Now, assign the fourth item in the list to a variable, x and then print the variable\n",
    "i = 3 \n",
    "x = grocery_list[i] # table row 2\n",
    "print(x) \n",
    "\n",
    "# 3\n",
    "# Add these two items at the end of the list : umbrellas and artichokes\n",
    "grocery_list.append(\"umbrella\")\n",
    "grocery_list.append(\"artichokes\")\n",
    "\n",
    "# 4\n",
    "# Insert the item eggs as the third item of the list \n",
    "grocery_list.insert(2, \"eggs\")\n",
    "\n",
    "# 5\n",
    "# Remove milk from the list \n",
    "grocery_list.remove(\"milk\")\n",
    "# or: grocery_list.pop(1)\n",
    "\n",
    "#6\n",
    "# Assign the element at the end of the list to index 2. Print index 2 to check\n",
    "grocery_list[2] = grocery_list[6]\n",
    "print (grocery_list[2])\n",
    "\n",
    "#7\n",
    "# Print the entire list, does it match ours ? \n",
    "print(grocery_list)\n",
    "\n",
    "# Expected output\n",
    "# carrots\n",
    "# carrots\n",
    "# artichokes\n",
    "# ['apples', 'eggs', 'artichokes', 'carrots', 'cucumbers', 'umbrellas', 'artichokes']"
   ]
  },
  {
   "cell_type": "markdown",
   "metadata": {},
   "source": [
    "### 3.8 Challenge\n",
    "\n",
    "Create a loop that <mark>converts 8-bit binary values</mark> from the provided list into <mark>decimal numbers</mark>. Then, after the value is determined, <mark>remove all the values greater than 100</mark> from the list using a list-related function you've been taught before. <mark>Print the new list</mark> when done.\n",
    "\n",
    "Once you've done this with one of the types of loops discussed in this lesson, create a function that does the same thing with a *different* type of loop."
   ]
  },
  {
   "cell_type": "code",
   "execution_count": 104,
   "metadata": {},
   "outputs": [
    {
     "name": "stdout",
     "output_type": "stream",
     "text": [
      "[73, 55]\n"
     ]
    }
   ],
   "source": [
    "binarylist = [\"01001001\", \"10101010\", \"10010110\", \"00110111\", \"11101100\", \"11010001\", \"10000001\"]  \n",
    "# 73, 170, 150, 55, 236, 209, 129\n",
    "\n",
    "def binary_convert(binary):\n",
    "    num = []\n",
    "    for i in range(0, 6):\n",
    "        if (int(binary[i], 2) < 101):\n",
    "            num.append(int(binary[i], 2))\n",
    "    return num\n",
    "\n",
    "finallist = binary_convert(binarylist)\n",
    "print(finallist)\n"
   ]
  },
  {
   "cell_type": "markdown",
   "metadata": {},
   "source": [
    "My loop originally had an if and an else which would only get me the output of [73] rather than [73] and [55]. Took me a while to realize I didn't need the else.\n",
    "\n",
    "![]({{site.baseurl}}/images/123.png \"pic\")"
   ]
  }
 ],
 "metadata": {
  "kernelspec": {
   "display_name": "Python 3.10.6 64-bit",
   "language": "python",
   "name": "python3"
  },
  "language_info": {
   "codemirror_mode": {
    "name": "ipython",
    "version": 3
   },
   "file_extension": ".py",
   "mimetype": "text/x-python",
   "name": "python",
   "nbconvert_exporter": "python",
   "pygments_lexer": "ipython3",
   "version": "3.10.6"
  },
  "orig_nbformat": 4,
  "vscode": {
   "interpreter": {
    "hash": "b0fa6594d8f4cbf19f97940f81e996739fb7646882a419484c72d19e05852a7e"
   }
  }
 },
 "nbformat": 4,
 "nbformat_minor": 2
}
