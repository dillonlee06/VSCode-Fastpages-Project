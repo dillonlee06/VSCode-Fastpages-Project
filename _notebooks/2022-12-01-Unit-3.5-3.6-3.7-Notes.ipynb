{
 "cells": [
  {
   "cell_type": "markdown",
   "metadata": {},
   "source": [
    "# Unit 3.5, 3.6 and 3.7 Booleans Expressions, Conditionals, Nested Conditionals Notes test\n",
    "\n",
    "toc: true\n",
    "layout: post\n",
    "description: \n",
    "categories: [AP Notes]"
   ]
  },
  {
   "cell_type": "markdown",
   "metadata": {},
   "source": [
    "# Vocab\n",
    "\n",
    "<table>\n",
    "    <tr>\n",
    "        <th>Function</th>\n",
    "        <th>Symbol</th>\n",
    "    </tr>\n",
    "    <tr>\n",
    "        <td>greater than</td>\n",
    "        <td>></td>\n",
    "    </tr>\n",
    "    <tr>\n",
    "        <td>less than</td>\n",
    "        <td><</td>\n",
    "    </tr>\n",
    "    <tr>\n",
    "        <td>greater than or equal to</td>\n",
    "        <td>>=</td>\n",
    "    </tr>\n",
    "    <tr>\n",
    "        <td>less than or equal to</td>\n",
    "        <td><=</td>\n",
    "    </tr>\n",
    "    <tr>\n",
    "        <td>equal to</td>\n",
    "        <td>==</td>\n",
    "    </tr>\n",
    "    <tr>\n",
    "        <td>not equal to</td>\n",
    "        <td>!=</td>\n",
    "    </tr>\n",
    "</table>\n",
    "> **Key Terms**\n",
    "- Boolean expression: TRUE or FALSE statement\n",
    "- Conditional: Handles conditions in your program\n",
    "- Nested conditional: if or if else statement inside a different if else statement.\n",
    "- Relational Operator:"
   ]
  },
  {
   "cell_type": "code",
   "execution_count": null,
   "metadata": {},
   "outputs": [],
   "source": []
  }
 ],
 "metadata": {
  "kernelspec": {
   "display_name": "Python 3.10.6 64-bit",
   "language": "python",
   "name": "python3"
  },
  "language_info": {
   "name": "python",
   "version": "3.10.6"
  },
  "orig_nbformat": 4,
  "vscode": {
   "interpreter": {
    "hash": "b0fa6594d8f4cbf19f97940f81e996739fb7646882a419484c72d19e05852a7e"
   }
  }
 },
 "nbformat": 4,
 "nbformat_minor": 2
}
