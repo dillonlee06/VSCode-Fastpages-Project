{
 "cells": [
  {
   "cell_type": "markdown",
   "metadata": {},
   "source": [
    "# Unit 3.5, 3.6 and 3.7 Booleans Expressions, Conditionals, Nested Conditionals Notes\n",
    "\n",
    "- toc:true\n",
    "- branch: master\n",
    "- badges: true\n",
    "- comments: true\n",
    "- author: Dillon Lee\n",
    "- categories: [CSP Notes]"
   ]
  },
  {
   "cell_type": "markdown",
   "metadata": {},
   "source": [
    "# Vocab\n",
    "\n",
    "<table>\n",
    "    <tr>\n",
    "        <th>Function</th>\n",
    "        <th>Symbol</th>\n",
    "    </tr>\n",
    "    <tr>\n",
    "        <td>greater than</td>\n",
    "        <td>></td>\n",
    "    </tr>\n",
    "    <tr>\n",
    "        <td>less than</td>\n",
    "        <td><</td>\n",
    "    </tr>\n",
    "    <tr>\n",
    "        <td>greater than or equal to</td>\n",
    "        <td>>=</td>\n",
    "    </tr>\n",
    "    <tr>\n",
    "        <td>less than or equal to</td>\n",
    "        <td><=</td>\n",
    "    </tr>\n",
    "    <tr>\n",
    "        <td>equal to</td>\n",
    "        <td>==</td>\n",
    "    </tr>\n",
    "    <tr>\n",
    "        <td>not equal to</td>\n",
    "        <td>!=</td>\n",
    "    </tr>\n",
    "</table>\n",
    "\n",
    "> **Key Terms**\n",
    "- Boolean expression: TRUE or FALSE statement\n",
    "- Conditional: Handles conditions in your program\n",
    "- Nested conditional: if or if else statement inside a different if else statement.\n",
    "- Algorithm: A set of instructions that accomplish a task.\n",
    "- Selection: The process that determines which parts of an algorithm is being executed based on a condition that is true or false."
   ]
  },
  {
   "cell_type": "markdown",
   "metadata": {},
   "source": [
    "## Homework/Hacks\n",
    "\n",
    " our homework we have decided for a decimal number to binary converter. You must use conditional statements within your code and have a input box for where the decimal number will go. This will give you a 2.7 out of 3 and you may add anything else to the code to get above a 2.7.\n",
    "\n"
   ]
  },
  {
   "cell_type": "markdown",
   "metadata": {},
   "source": [
    "Below is an example of decimal number to binary converter which you can use as a starting template."
   ]
  },
  {
   "cell_type": "code",
   "execution_count": 10,
   "metadata": {},
   "outputs": [
    {
     "name": "stdout",
     "output_type": "stream",
     "text": [
      "The number:  12  converts to 01100"
     ]
    }
   ],
   "source": [
    "def DecimalToBinary(num):\n",
    "# if (num & 1) = 1\n",
    "    if num >= 1:\n",
    "        DecimalToBinary(num//2)\n",
    "    print(num % 2, end = \"\")\n",
    " \n",
    "# function to reverse the string\n",
    "# Driver Code\n",
    "num = int(input(\"choose your number\")) # sets num to be the integer converted input of user\n",
    "print(\"The number: \", num, \" converts to \", end = \"\")\n",
    "DecimalToBinary(num)"
   ]
  },
  {
   "cell_type": "code",
   "execution_count": 11,
   "metadata": {},
   "outputs": [
    {
     "name": "stdout",
     "output_type": "stream",
     "text": [
      "Binary of num 67 is: 1000011\n"
     ]
    }
   ],
   "source": [
    "def DecimalToBinary(num):\n",
    "    strs = \"\"\n",
    "    while num:\n",
    "        # if (num & 1) = 1\n",
    "        if (num & 1):\n",
    "            strs += \"1\"\n",
    "        # if (num & 1) = 0\n",
    "        else:\n",
    "            strs += \"0\"\n",
    "        # right shift by 1\n",
    "        num >>= 1\n",
    "    return strs\n",
    " \n",
    "# function to reverse the string\n",
    "def reverse(strs):\n",
    "    print(strs[::-1])\n",
    " \n",
    "# Driver Code\n",
    "num = 67\n",
    "print(\"Binary of num 67 is:\", end=\" \")\n",
    "reverse(DecimalToBinary(num))"
   ]
  }
 ],
 "metadata": {
  "kernelspec": {
   "display_name": "Python 3.9.6 64-bit",
   "language": "python",
   "name": "python3"
  },
  "language_info": {
   "codemirror_mode": {
    "name": "ipython",
    "version": 3
   },
   "file_extension": ".py",
   "mimetype": "text/x-python",
   "name": "python",
   "nbconvert_exporter": "python",
   "pygments_lexer": "ipython3",
   "version": "3.8.9"
  },
  "orig_nbformat": 4,
  "vscode": {
   "interpreter": {
    "hash": "31f2aee4e71d21fbe5cf8b01ff0e069b9275f58929596ceb00d14d90e3e16cd6"
   }
  }
 },
 "nbformat": 4,
 "nbformat_minor": 2
}
