{
 "cells": [
  {
   "attachments": {},
   "cell_type": "markdown",
   "metadata": {},
   "source": [
    "# Unit 3.12 and 3.13\n",
    "\n",
    "- toc:true\n",
    "- branch: master\n",
    "- badges: true\n",
    "- comments: true\n",
    "- author: Dillon Lee\n",
    "- categories: [CSP Notes]"
   ]
  },
  {
   "cell_type": "markdown",
   "metadata": {},
   "source": [
    "# Take some additional notes that you would like here for 3.12 and 3.13. We will be looking for additional notes from the presentation. \n"
   ]
  },
  {
   "attachments": {},
   "cell_type": "markdown",
   "metadata": {},
   "source": [
    "# What are procedures?\n",
    "\n",
    "**Fill in the blanks please:**\n",
    "\n",
    "- Procedure: A named group of programming instructions that may have parameters and return values\n",
    "\n",
    "- Parameters: The input values of a procedure\n",
    "\n",
    "- Arguments: Specify the values of the parameters when a procedure is called\n",
    "\n",
    "- Modularity: Separating a program's functions into independent pieces or blocks, each containing all the parts needed to execute a single aspect of the functionality \n",
    "\n",
    "- Procedural Abstraction: provides a name for a process that allows a procedure to be used only knowing WHAT it does, not HOW it does it\n",
    "\n",
    "- What are some other names for procedures?: A procedure is also known as a function, you can name the function whatever you want\n",
    "\n",
    "- Why are procedures effective?: We have the ability to alter the result without actually changing the calls to the program\n"
   ]
  },
  {
   "attachments": {},
   "cell_type": "markdown",
   "metadata": {},
   "source": [
    "## <mark>Challenge 1</mark> below: Add the command that will **call** the procedure. "
   ]
  },
  {
   "cell_type": "code",
   "execution_count": 17,
   "metadata": {},
   "outputs": [
    {
     "name": "stdout",
     "output_type": "stream",
     "text": [
      "111\n"
     ]
    }
   ],
   "source": [
    "# Convert decimal number 10 to binary\n",
    "decimal = 7\n",
    "binary = format(decimal, 'b') # procedure that converts to binary \n",
    "\n",
    "# Print the result\n",
    "print(binary)"
   ]
  },
  {
   "attachments": {},
   "cell_type": "markdown",
   "metadata": {},
   "source": [
    "## <mark>Challenge 2</mark> below: Complete the Min and Max procedure in either JavaScript and Python using the instructions from the JavaScript page. (JavaScript will get you a extra 0.1)"
   ]
  },
  {
   "cell_type": "code",
   "execution_count": 14,
   "metadata": {
    "vscode": {
     "languageId": "javascript"
    }
   },
   "outputs": [
    {
     "name": "stdout",
     "output_type": "stream",
     "text": [
      "40\n",
      "20\n",
      "2\n",
      "undefined\n",
      "1\n",
      "undefined\n"
     ]
    }
   ],
   "source": [
    "// Start by creating a procedure called findMax and set the parameters to numberA and numberB.\n",
    "function findMax(numberA, numberB){\n",
    "// Within the procedure, write the code to determine which of the two parameters, numberA or numberB, is the larger value. Print that value.\n",
    "if (numberA > numberB){\n",
    "    console.log(numberA)\n",
    "}\n",
    "else{\n",
    "    console.log(numberB)\n",
    "}\n",
    "}\n",
    "findMax(20, 40)\n",
    "\n",
    "// Repeat the process, this time creating a procedure called findMin, which will print the parameter with a smaller value.\n",
    "function findMin(numberA, numberB){\n",
    "    if (numberA < numberB){\n",
    "        console.log(numberA)\n",
    "    }\n",
    "    else{\n",
    "        console.log(numberB)\n",
    "    }\n",
    "    }\n",
    "    findMin(20, 40)\n",
    "// Call both functions so that the parameters numberA and numberB are given a value.\n",
    "var numberA = 1;\n",
    "var numberB = 2;\n",
    "console.log(findMax(numberA, numberB));\n",
    "console.log(findMin(numberA, numberB));\n",
    "// Optional bonus- create a procedure that can determine the minimum or maximum value out of more than two parameters."
   ]
  },
  {
   "attachments": {},
   "cell_type": "markdown",
   "metadata": {},
   "source": [
    "## <mark>Homework/Hacks</mark>: For the hw, you have two options, easy or hard. The easy hack is for a 2.7 + extra work for the full 3. The easy hack is simply creating your own procedure with your own creativity. Since there is a lot of leeway for this one, you must do additional work to get a 3. For the hard hack, below is the start to a character to binary convertor. This is just a template, but the goal is to translate \"APCSP\" into binary. You can delete the existing code if you want. The only contraint is that you must use a procedure. Doing this will get you a 3. "
   ]
  },
  {
   "cell_type": "code",
   "execution_count": 1,
   "metadata": {},
   "outputs": [],
   "source": [
    "def charToBinary(x):()\n",
    "\n",
    "# The output shown below is the output you are supposed to get"
   ]
  },
  {
   "cell_type": "code",
   "execution_count": 3,
   "metadata": {},
   "outputs": [
    {
     "name": "stdout",
     "output_type": "stream",
     "text": [
      "A : 01000001\n",
      "P : 01010000\n",
      "C : 01000011\n",
      "S : 01010011\n",
      "P : 01010000\n"
     ]
    }
   ],
   "source": [
    "def charToBinary(x):\n",
    "  # Get the ASCII code of the characters in the string\n",
    "  ascii_code = ord(x)\n",
    "  \n",
    "  # Convert the ASCII code to binary (string of 0 and 1)\n",
    "  binary = bin(ascii_code)\n",
    "  \n",
    "  # Remove the \"0b\" from the binary string\n",
    "  binary = binary[2:]\n",
    "  \n",
    "  # 8 digits\n",
    "  binary = binary.zfill(8)\n",
    "  \n",
    "  return binary\n",
    "\n",
    "# Test the function\n",
    "string = \"APCSP\"\n",
    "for x in string:\n",
    "  binary = charToBinary(x)\n",
    "  print(str(x) + \" : \" + str(binary)) #formatting for the printed output\n"
   ]
  }
 ],
 "metadata": {
  "kernelspec": {
   "display_name": "Python 3.8.9 64-bit",
   "language": "python",
   "name": "python3"
  },
  "language_info": {
   "codemirror_mode": {
    "name": "ipython",
    "version": 3
   },
   "file_extension": ".py",
   "mimetype": "text/x-python",
   "name": "python",
   "nbconvert_exporter": "python",
   "pygments_lexer": "ipython3",
   "version": "3.8.9"
  },
  "orig_nbformat": 4,
  "vscode": {
   "interpreter": {
    "hash": "31f2aee4e71d21fbe5cf8b01ff0e069b9275f58929596ceb00d14d90e3e16cd6"
   }
  }
 },
 "nbformat": 4,
 "nbformat_minor": 2
}
