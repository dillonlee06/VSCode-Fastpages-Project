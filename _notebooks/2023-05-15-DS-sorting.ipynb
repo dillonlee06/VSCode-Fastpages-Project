{
 "cells": [
  {
   "attachments": {},
   "cell_type": "markdown",
   "metadata": {},
   "source": [
    "# Sorting Algorithms\n",
    "> Working with Data Structures and manipulating data.\n",
    "\n",
    "- toc: true\n",
    "- categories: []\n",
    "- type: pbl\n",
    "- week: 34"
   ]
  },
  {
   "attachments": {},
   "cell_type": "markdown",
   "metadata": {},
   "source": [
    "[wget link](https://raw.githubusercontent.com/nighthawkcoders/APCSP/master/_notebooks/2023-05-15-DS-sorting.ipynb)"
   ]
  },
  {
   "cell_type": "code",
   "execution_count": null,
   "metadata": {},
   "outputs": [
    {
     "name": "stdout",
     "output_type": "stream",
     "text": [
      "Random List\n",
      "[9, 62, 78, 54, 18, 74, 58, 84, 20, 46]\n"
     ]
    }
   ],
   "source": [
    "import random\n",
    "\n",
    "numbers = []\n",
    "for i in range(10):\n",
    "    numbers.append(random.randint(0,100))\n",
    "print(\"Random List\")\n",
    "print(numbers)"
   ]
  },
  {
   "attachments": {},
   "cell_type": "markdown",
   "metadata": {},
   "source": [
    "# Warm Up\n",
    "\n",
    "> Discuss with a partner... \n",
    "What are some strategies you would use to sort this list? (Don't worry about writing code for now)\n",
    "- You could sort by the value low to high/high to low, even numbers, odd numbers, prime numbers, etc."
   ]
  },
  {
   "attachments": {},
   "cell_type": "markdown",
   "metadata": {},
   "source": [
    "# Explore\n",
    "\n",
    "Get into groups of 3\n",
    "\n",
    "We will be focusing on 4 algorithms today.\n",
    "\n",
    "We will look at the first one together, Bubble Sort\n",
    "\n",
    "![](images/bubble-sort.png)\n",
    "\n",
    "What is happening with this sort?\n",
    "\n",
    "In your groups you will each choose to be an expert on a sorting algorithm. Merge, Selection, and Insertion.\n",
    "Take about 5 minutes to read about your algorithm (Geek for Geeks linked below) and be ready to explain it to your other group members. \n",
    "\n",
    "[Merge](https://www.geeksforgeeks.org/merge-sort/#)\n",
    "\n",
    "[Selection](https://www.geeksforgeeks.org/selection-sort/)\n",
    "\n",
    "[Insertion](https://www.geeksforgeeks.org/insertion-sort/)"
   ]
  },
  {
   "attachments": {},
   "cell_type": "markdown",
   "metadata": {},
   "source": [
    "## Practice\n",
    "\n",
    "[75, 17, 46, 80, 67, 45, 69, 79, 40, 0]\n",
    "\n",
    "How would you sort this list with... \n",
    "- Bubble Sort\n",
    "- **Selection Sort**\n",
    "> Explain.\n",
    "- Bubble: I would sort this list with bubble sort by iterating through the list multiple times. Each time, I would go to the right and look at 2 consecutive elements - for example, 75 and 17. If the one on the right is smaller than the one on the left, I will switch the two, so here, I switch 75 and 17 since 17 is smaller than 75. I keep doing this until the list is sorted.\n",
    "- Selection: This sort would be used to sort this list by starting at index 0 and going through the whole list and taking the minimum value and then switching it with index 0. This then happens again with index 1, 2, 3, etc until the list is complete with values low to high. Iterate through the list and replace 0 with 75, then start at index 1 (number 17) and do the same but since 17 is the smallest, nothing changes. Then start at index 2 and iterate through, repeating this process until the list is ordered low to high.\n",
    "\n",
    "[88, 39, 53, 39, 58, 43, 74, 81, 71, 51]\n",
    "\n",
    "How would you sort this list with... \n",
    "- Merge Sort\n",
    "- Insertion Sort\n",
    "> Explain.\n",
    "- Merge: I will split the list until only individual elements remain - 88, 39, 53, 39, 58, 43, 74, 81, 71, 51. The elements are sorted and then merged into 1 sorted list.\n",
    "- Insertion:The process will be very similar to Bubble Sort except insertion will only iterate through the list once. It looks at 2 consecutive elements and switches them if the one on the right is smaller - 75 and 17. It also looks at the new consecutive elements after switching so that the whole list is sorted. For example, after switching 75 and 17, 75 is also bigger than 46 so the two are switched.\n"
   ]
  },
  {
   "attachments": {},
   "cell_type": "markdown",
   "metadata": {},
   "source": [
    "# Sorting Words\n",
    "> Sorting strings works in the same way as integers. Using your expertise algorithm, sort the following list of random words."
   ]
  },
  {
   "cell_type": "code",
   "execution_count": 19,
   "metadata": {},
   "outputs": [
    {
     "name": "stdout",
     "output_type": "stream",
     "text": [
      "236736\n",
      "Random List\n",
      "['Atamosco', 'lemming', 'antiputrescent', 'reheater', 'enunciatively', 'nettlebed', 'eremology', 'reprobationary', 'uncoquettishly', 'Bougainvillea']\n",
      "Random List\n",
      "['emptyhearted', 'eyesalve', 'bufflehead', 'pharmacodiagnosis', 'streptaster', 'prismy', 'Heliothis', 'panelling', 'palliator', 'endow']\n"
     ]
    },
    {
     "name": "stderr",
     "output_type": "stream",
     "text": [
      "[nltk_data] Downloading package words to /Users/dillonlee/nltk_data...\n",
      "[nltk_data]   Package words is already up-to-date!\n"
     ]
    }
   ],
   "source": [
    "import nltk\n",
    "import random\n",
    "\n",
    "nltk.download('words')  # Download the word list (only required once)\n",
    "\n",
    "from nltk.corpus import words\n",
    "\n",
    "english_words = words.words()\n",
    "print(len(english_words))  # Prints the number of words in the list\n",
    "\n",
    "# You can now use the 'english_words' list in your code\n",
    "\n",
    "words = []\n",
    "for i in range(10):\n",
    "    words.append(english_words[random.randint(0,len(english_words))])\n",
    "print(\"Random List\")\n",
    "print(words)\n",
    "\n",
    "def new_words():\n",
    "    # You can now use the 'english_words' list in your code\n",
    "    random_words = []\n",
    "    for i in range(10):\n",
    "        random_words.append(english_words[random.randint(0,len(english_words))])\n",
    "    return random_words\n",
    "        \n",
    "\n",
    "print(\"Random List\")\n",
    "print(new_words())"
   ]
  },
  {
   "attachments": {},
   "cell_type": "markdown",
   "metadata": {},
   "source": [
    "## Discuss \n",
    "Answer the following with your group.\n",
    "\n",
    "- When should you use each algorithm? What makes an algorithm the right choice?\n",
    "- Given the following lists...\n",
    "    - [0, 2, 6, 4, 8, 10]\n",
    "        - Bubble sort, you only have to swap the 4 and 6\n",
    "    - [Elephant, Banana, Cat, Dog, Apple]\n",
    "        - Selection sort, it only needs to go through it and swap apple with elephant, it will essentially be completed on the first run\n",
    "    - [29, 13, 83, 47, 32, 78, 100, 60, 65, 15, 24, 9, 40, 68, 53, 8, 90, 58, 39, 32, 34, 91, 74, 94, 49, 87, 34, 87, 23, 17, 27, 2, 38, 58, 84, 15, 9, 46, 74, 40, 44, 8, 55, 28, 81, 92, 81, 88, 53, 38, 19, 21, 9, 54, 21, 67, 3, 41, 3, 74, 13, 71, 70, 45, 5, 36, 80, 64, 97, 86, 73, 74, 94, 79, 49, 32, 20, 68, 64, 69, 1, 77, 31, 56, 100, 80, 48, 75, 85, 93, 67, 57, 26, 56, 43, 53, 59, 28, 67, 50]\n",
    "        - Merge sort, this is a very large list and using bubble or selection will have to run through it a lot of times. Merge sorting is simpler.\n",
    "Select the algorithm you believe is best for each, explain."
   ]
  },
  {
   "attachments": {},
   "cell_type": "markdown",
   "metadata": {},
   "source": [
    "# Popcorn Hacks"
   ]
  },
  {
   "cell_type": "code",
   "execution_count": 20,
   "metadata": {},
   "outputs": [
    {
     "name": "stdout",
     "output_type": "stream",
     "text": [
      "Random List:\n",
      "['whizzer', 'truantness', 'Philoctetes', 'baresma', 'plantsman', 'yaw', 'Calite', 'semistock', 'phymatosis', 'amyotrophia']\n",
      "Sorted List:\n",
      "['Calite', 'Philoctetes', 'amyotrophia', 'baresma', 'phymatosis', 'plantsman', 'semistock', 'truantness', 'whizzer', 'yaw']\n"
     ]
    }
   ],
   "source": [
    "def insertion_sort(word_list):\n",
    "    for i in range(1, len(word_list)):\n",
    "        current_word = word_list[i]\n",
    "        j = i - 1\n",
    "        while j >= 0 and word_list[j] > current_word:\n",
    "            word_list[j + 1] = word_list[j]\n",
    "            j -= 1\n",
    "        word_list[j + 1] = current_word\n",
    "\n",
    "random_words = new_words()\n",
    "print(\"Random List:\")\n",
    "print(random_words)\n",
    "\n",
    "insertion_sort(random_words)\n",
    "print(\"Sorted List:\")\n",
    "print(random_words)"
   ]
  },
  {
   "attachments": {},
   "cell_type": "markdown",
   "metadata": {},
   "source": [
    "## Bubble sort"
   ]
  },
  {
   "cell_type": "code",
   "execution_count": 21,
   "metadata": {},
   "outputs": [
    {
     "name": "stdout",
     "output_type": "stream",
     "text": [
      "['Calypterae', 'Scripture', 'wireworker', 'fleyedness', 'Oculina', 'starost', 'adoperate', 'skully', 'drumly', 'ademption']\n",
      "Sorted List:\n",
      "['Calypterae', 'Oculina', 'Scripture', 'ademption', 'adoperate', 'drumly', 'fleyedness', 'skully', 'starost', 'wireworker']\n"
     ]
    }
   ],
   "source": [
    "def bubbleSort(word_list):\n",
    "    x = len(word_list)\n",
    "\n",
    "    for i in range(x - 1):\n",
    "        swapped = False\n",
    "\n",
    "        for j in range(x - i - 1):\n",
    "            if word_list[j] > word_list[j + 1]:\n",
    "                word_list[j], word_list[j + 1] = word_list[j + 1], word_list[j]\n",
    "                swapped = True         \n",
    "        if not swapped:\n",
    "            break\n",
    "        \n",
    "\n",
    "words = new_words()\n",
    "print(words)\n",
    "\n",
    "bubbleSort(words)\n",
    "print(\"Sorted List:\")\n",
    "print(words)"
   ]
  },
  {
   "attachments": {},
   "cell_type": "markdown",
   "metadata": {},
   "source": [
    "## Selection sort"
   ]
  },
  {
   "cell_type": "code",
   "execution_count": 22,
   "metadata": {},
   "outputs": [
    {
     "name": "stdout",
     "output_type": "stream",
     "text": [
      "['potshoot', 'amplificative', 'abigeus', 'diallage', 'Konde', 'Globularia', 'nonsocialistic', 'Galeus', 'reperfume', 'chettik']\n",
      "Sorted List:\n",
      "['Galeus', 'Globularia', 'Konde', 'abigeus', 'amplificative', 'chettik', 'diallage', 'nonsocialistic', 'potshoot', 'reperfume']\n"
     ]
    }
   ],
   "source": [
    "def selectionSort(word_list):\n",
    "    n = len(word_list)\n",
    "    \n",
    "    for i in range(n):\n",
    "        smallI = i\n",
    "        smallV = word_list[i]\n",
    "\n",
    "        for j in range(i + 1, n):\n",
    "            if word_list[j] < smallV:\n",
    "                smallI = j\n",
    "                smallV = word_list[j]\n",
    "        \n",
    "        word_list[i], word_list[smallI] = word_list[smallI], word_list[i]\n",
    "        \n",
    "\n",
    "words = new_words()\n",
    "print(words)\n",
    "\n",
    "selectionSort(words)\n",
    "print(\"Sorted List:\")\n",
    "print(words)"
   ]
  },
  {
   "attachments": {},
   "cell_type": "markdown",
   "metadata": {},
   "source": [
    "## HACKS\n",
    "> Provided below is a Bubble Sort Algorithm sorting a list of dictionaries based off of selected key.\n",
    "\n",
    "- Now it's time to do some coding...\n",
    "\n",
    "- Run code and then research and answer these questions...\n",
    "    - Is a list and/or dictionary in python considered a primitive or collection type?  Why?\n",
    "        - **Traditionally, a list/dictionary is considered a non-primitive type and therefore, a collection. This is because a collection type is something that stores and organizes multiple values which is what lists and dictionaries do.**\n",
    "    - Is the list passed into bubble sort \"pass-by-value\" or \"pass-by-reference? Describe why in relation to output.\n",
    "        - ****\n",
    "\n",
    "- Implement new cell(s) and/or organize cells to do the following.\n",
    "    - Create your own list\n",
    "    - Use your expertise sorting algorithm (selection, insertion, merge). Note, I got my bubble sort from Geek for Geeks and made modifications. Each student in a group should have a unique algorithm.\n",
    "    - Test your list with my bubble sort\n",
    "    - Test my list with your new sort\n",
    "    - Research analysis on sorting: comparisons, swaps, time.  Build this into your hacks.\n",
    "    - Find a better way to print the data, key first, then other elements in viewable form.\n",
    "\n",
    "Use the code below to help guide your adventure"
   ]
  },
  {
   "cell_type": "code",
   "execution_count": 2,
   "metadata": {},
   "outputs": [
    {
     "name": "stdout",
     "output_type": "stream",
     "text": [
      "Original\n",
      "[{'name': 'Risa', 'age': 18, 'city': 'New York'}, {'name': 'John', 'age': 63, 'city': 'Eugene'}, {'name': 'Shekar', 'age': 18, 'city': 'San Francisco'}, {'name': 'Ryan', 'age': 21, 'city': 'Los Angeles'}]\n",
      "name\n",
      "[{'name': 'John', 'age': 63, 'city': 'Eugene'}, {'name': 'Risa', 'age': 18, 'city': 'New York'}, {'name': 'Ryan', 'age': 21, 'city': 'Los Angeles'}, {'name': 'Shekar', 'age': 18, 'city': 'San Francisco'}]\n",
      "age\n",
      "[{'name': 'Risa', 'age': 18, 'city': 'New York'}, {'name': 'Shekar', 'age': 18, 'city': 'San Francisco'}, {'name': 'Ryan', 'age': 21, 'city': 'Los Angeles'}, {'name': 'John', 'age': 63, 'city': 'Eugene'}]\n",
      "city\n",
      "[{'name': 'John', 'age': 63, 'city': 'Eugene'}, {'name': 'Ryan', 'age': 21, 'city': 'Los Angeles'}, {'name': 'Risa', 'age': 18, 'city': 'New York'}, {'name': 'Shekar', 'age': 18, 'city': 'San Francisco'}]\n"
     ]
    }
   ],
   "source": [
    "\"\"\"\n",
    "* Creator: Nighthawk Coding Society\n",
    "Bubble Sort of a List with optimizations\n",
    "\"\"\"\n",
    "\n",
    "# bubble sorts a list of dictionaries, base off of provided key\n",
    "def bubbleSort(list, key):\n",
    "    n = len(list) - 1  # list are indexed 0 to n-1, len is n\n",
    "    \n",
    "    # Traverse through list with i index\n",
    "    for i in range(n):\n",
    "        swapped = False  # optimize code, so it exits if now swaps on inner loop\n",
    "\n",
    "        # Inner traversal using j index\n",
    "        for j in range(n-i):  # n-i as positions on right are in order in bubble\n",
    " \n",
    "            # Swap if the element KeyN is greater KeyN1\n",
    "            keyN = list[j].get(key)\n",
    "            keyN1 = list[j+1].get(key)\n",
    "            if keyN > keyN1:\n",
    "                swapped = True\n",
    "                list[j], list[j + 1] = list[j + 1], list[j]  # single line swap\n",
    "         \n",
    "        if not swapped:  # if no swaps on inner pass, list is sorted\n",
    "            return  # exit function\n",
    "    \n",
    "\n",
    "if __name__ == \"__main__\":\n",
    "    # list/dictionary sample\n",
    "    list_of_people = [\n",
    "    {\"name\": \"Risa\", \"age\": 18, \"city\": \"New York\"},\n",
    "    {\"name\": \"John\", \"age\": 63, \"city\": \"Eugene\"},\n",
    "    {\"name\": \"Shekar\", \"age\": 18, \"city\": \"San Francisco\"},\n",
    "    {\"name\": \"Ryan\", \"age\": 21, \"city\": \"Los Angeles\"}\n",
    "    ]\n",
    "    \n",
    "    # assuming uniform keys, pick 1st row as source of keys\n",
    "    key_row = list_of_people[0]\n",
    "\n",
    "    # print list as defined\n",
    "    print(\"Original\")\n",
    "    print(list_of_people)\n",
    "    \n",
    "    for key in key_row:  # finds each key in the row\n",
    "        print(key)\n",
    "        bubbleSort(list_of_people, key)  # sort list of people\n",
    "        print(list_of_people)"
   ]
  },
  {
   "attachments": {},
   "cell_type": "markdown",
   "metadata": {},
   "source": [
    "My List:"
   ]
  },
  {
   "cell_type": "code",
   "execution_count": null,
   "metadata": {},
   "outputs": [],
   "source": [
    "grades = [\n",
    "    {\"name\": \"Dillon\", \"percent\": 99, \"letter\": \"A\"},\n",
    "    {\"name\": \"Steven\", \"percent\": 83, \"letter\": \"B\"},\n",
    "    {\"name\": \"Noor\", \"percent\": 77, \"letter\": \"C\"},\n",
    "    {\"name\": \"Lucas\", \"percent\": 68, \"letter\": \"D\"}\n",
    "    ]"
   ]
  },
  {
   "attachments": {},
   "cell_type": "markdown",
   "metadata": {},
   "source": [
    "Test your list with my bubble sort"
   ]
  },
  {
   "cell_type": "code",
   "execution_count": 15,
   "metadata": {},
   "outputs": [
    {
     "name": "stdout",
     "output_type": "stream",
     "text": [
      "Original\n",
      "[{'name': 'Dillon', 'percent': 99, 'letter': 'A'}, {'name': 'Steven', 'percent': 83, 'letter': 'B'}, {'name': 'Noor', 'percent': 77, 'letter': 'C'}, {'name': 'Lucas', 'percent': 68, 'letter': 'D'}]\n",
      "name\n",
      "[{'name': 'Dillon', 'percent': 99, 'letter': 'A'}, {'name': 'Lucas', 'percent': 68, 'letter': 'D'}, {'name': 'Noor', 'percent': 77, 'letter': 'C'}, {'name': 'Steven', 'percent': 83, 'letter': 'B'}]\n",
      "percent\n",
      "[{'name': 'Lucas', 'percent': 68, 'letter': 'D'}, {'name': 'Noor', 'percent': 77, 'letter': 'C'}, {'name': 'Steven', 'percent': 83, 'letter': 'B'}, {'name': 'Dillon', 'percent': 99, 'letter': 'A'}]\n",
      "letter\n",
      "[{'name': 'Dillon', 'percent': 99, 'letter': 'A'}, {'name': 'Steven', 'percent': 83, 'letter': 'B'}, {'name': 'Noor', 'percent': 77, 'letter': 'C'}, {'name': 'Lucas', 'percent': 68, 'letter': 'D'}]\n"
     ]
    }
   ],
   "source": [
    "\"\"\"\n",
    "* Creator: Nighthawk Coding Society\n",
    "Bubble Sort of a List with optimizations\n",
    "\"\"\"\n",
    "\n",
    "# bubble sorts a list of dictionaries, base off of provided key\n",
    "def bubbleSort(list, key):\n",
    "    n = len(list) - 1  # list are indexed 0 to n-1, len is n\n",
    "    \n",
    "    # Traverse through list with i index\n",
    "    for i in range(n):\n",
    "        swapped = False  # optimize code, so it exits if now swaps on inner loop\n",
    "\n",
    "        # Inner traversal using j index\n",
    "        for j in range(n-i):  # n-i as positions on right are in order in bubble\n",
    " \n",
    "            # Swap if the element KeyN is greater KeyN1\n",
    "            keyN = list[j].get(key)\n",
    "            keyN1 = list[j+1].get(key)\n",
    "            if keyN > keyN1:\n",
    "                swapped = True\n",
    "                list[j], list[j + 1] = list[j + 1], list[j]  # single line swap\n",
    "         \n",
    "        if not swapped:  # if no swaps on inner pass, list is sorted\n",
    "            return  # exit function\n",
    "    \n",
    "\n",
    "if __name__ == \"__main__\":\n",
    "    # list/dictionary sample\n",
    "    grades = [\n",
    "    {\"name\": \"Dillon\", \"percent\": 99, \"letter\": \"A\"},\n",
    "    {\"name\": \"Steven\", \"percent\": 83, \"letter\": \"B\"},\n",
    "    {\"name\": \"Noor\", \"percent\": 77, \"letter\": \"C\"},\n",
    "    {\"name\": \"Lucas\", \"percent\": 68, \"letter\": \"D\"}\n",
    "    ]\n",
    "    \n",
    "    # assuming uniform keys, pick 1st row as source of keys\n",
    "    key_row = grades[0]\n",
    "\n",
    "    # print list as defined\n",
    "    print(\"Original\")\n",
    "    print(grades)\n",
    "    \n",
    "    for key in key_row:  # finds each key in the row\n",
    "        print(key)\n",
    "        bubbleSort(grades, key)  # sort list of people\n",
    "        print(grades)"
   ]
  },
  {
   "attachments": {},
   "cell_type": "markdown",
   "metadata": {},
   "source": [
    "Test my list with your new sort (Selection)"
   ]
  },
  {
   "cell_type": "code",
   "execution_count": 6,
   "metadata": {},
   "outputs": [
    {
     "name": "stdout",
     "output_type": "stream",
     "text": [
      "[-202, -97, -9, -2, 0, 11, 45, 88, 747]\n"
     ]
    }
   ],
   "source": [
    "# Reference code from Geek for Geeks\n",
    "def selectionSort(array, size):\n",
    "    \n",
    "    for index in range(size):\n",
    "        min_index = index\n",
    " \n",
    "        for j in range(index + 1, size):\n",
    "            if array[j] < array[min_index]:\n",
    "                min_index = j\n",
    "        (array[index], array[min_index]) = (array[min_index], array[index])\n",
    " \n",
    "arr = [-2, 45, 0, 11, -9,88,-97,-202,747]\n",
    "size = len(arr)\n",
    "selectionSort(arr, size)\n",
    "print(arr)"
   ]
  },
  {
   "cell_type": "code",
   "execution_count": 13,
   "metadata": {},
   "outputs": [
    {
     "name": "stdout",
     "output_type": "stream",
     "text": [
      "By age:[{'name': 'Risa', 'age': 18, 'city': 'New York'}, {'name': 'Shekar', 'age': 18, 'city': 'San Francisco'}, {'name': 'Ryan', 'age': 21, 'city': 'Los Angeles'}, {'name': 'John', 'age': 63, 'city': 'Eugene'}]\n",
      "By name:[{'name': 'John', 'age': 63, 'city': 'Eugene'}, {'name': 'Risa', 'age': 18, 'city': 'New York'}, {'name': 'Ryan', 'age': 21, 'city': 'Los Angeles'}, {'name': 'Shekar', 'age': 18, 'city': 'San Francisco'}]\n",
      "By city:[{'name': 'John', 'age': 63, 'city': 'Eugene'}, {'name': 'Ryan', 'age': 21, 'city': 'Los Angeles'}, {'name': 'Risa', 'age': 18, 'city': 'New York'}, {'name': 'Shekar', 'age': 18, 'city': 'San Francisco'}]\n"
     ]
    }
   ],
   "source": [
    "def selectionSort(array, size, key): # add parameter for what key to sort in dictionary\n",
    "    for index in range(size):\n",
    "        min_index = index\n",
    " \n",
    "        for j in range(index + 1, size):\n",
    "            if array[j][key] < array[min_index][key]:\n",
    "                min_index = j\n",
    "        array[index], array[min_index] = array[min_index], array[index]\n",
    "\n",
    "arr = [\n",
    "    {\"name\": \"Risa\", \"age\": 18, \"city\": \"New York\"},\n",
    "    {\"name\": \"John\", \"age\": 63, \"city\": \"Eugene\"},\n",
    "    {\"name\": \"Shekar\", \"age\": 18, \"city\": \"San Francisco\"},\n",
    "    {\"name\": \"Ryan\", \"age\": 21, \"city\": \"Los Angeles\"}\n",
    "]\n",
    "\n",
    "size = len(arr)\n",
    "\n",
    "selectionSort(arr, size, \"age\")\n",
    "print(\"By age:\" + str(arr))\n",
    "\n",
    "selectionSort(arr, size, \"name\")\n",
    "print(\"By name:\" + str(arr))\n",
    "\n",
    "selectionSort(arr, size, \"city\")\n",
    "print(\"By city:\" + str(arr))"
   ]
  }
 ],
 "metadata": {
  "kernelspec": {
   "display_name": "base",
   "language": "python",
   "name": "python3"
  },
  "language_info": {
   "codemirror_mode": {
    "name": "ipython",
    "version": 3
   },
   "file_extension": ".py",
   "mimetype": "text/x-python",
   "name": "python",
   "nbconvert_exporter": "python",
   "pygments_lexer": "ipython3",
   "version": "3.9.12"
  },
  "orig_nbformat": 4
 },
 "nbformat": 4,
 "nbformat_minor": 2
}
