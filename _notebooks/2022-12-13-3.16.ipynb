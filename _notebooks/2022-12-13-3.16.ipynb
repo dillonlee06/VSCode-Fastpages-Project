{
 "cells": [
  {
   "attachments": {},
   "cell_type": "markdown",
   "metadata": {},
   "source": [
    "# Unit 3.16 Simulations Notes\n",
    "- toc: true\n",
    "- comments: true\n",
    "- categories: [CSP Notes, Presentation Notes]\n"
   ]
  },
  {
   "attachments": {},
   "cell_type": "markdown",
   "metadata": {},
   "source": [
    "### Hack #1 - Class Notes\n",
    "\n",
    "Write any extra notes you have here\n",
    "\n",
    "- **Simulations** are abstractions that mimic more complex objects or phenomena from the real world\n",
    "- Simple terms: computers are used to help calculate and analyze real world situations\n",
    "- Simulations often end up being bias based on which details or real-world elements were included/excluded by the creator\n",
    "- Variability and outliers in the world are stimulated in code using RNGs such as dice rolls, coin flips, etc.\n",
    "- Stimulating situations allow us to predict results without real life consequences"
   ]
  },
  {
   "attachments": {},
   "cell_type": "markdown",
   "metadata": {},
   "source": [
    "### Hack #2 - Functions Classwork"
   ]
  },
  {
   "attachments": {},
   "cell_type": "markdown",
   "metadata": {},
   "source": [
    "Activity: Change the code below so that instead of using a fair coin, a weighted coin is flipped. THis means there is no longer an equal chance that either heads of tails will be flipped. Let's say there is a 2/3 chance of heads and only 1/3 chance of tails.\n",
    "\n",
    "Hint: maybe you can increase the range of integers?"
   ]
  },
  {
   "cell_type": "code",
   "execution_count": 15,
   "metadata": {},
   "outputs": [
    {
     "name": "stdout",
     "output_type": "stream",
     "text": [
      "Heads\n",
      "Heads\n",
      "Heads\n",
      "Heads\n",
      "Tails\n"
     ]
    }
   ],
   "source": [
    "# insert your work with randomization/ functions and the mycloset code here # Hint: Use the functions we talked about in the beginning!\n",
    "import random\n",
    "\n",
    "def coinflip():         #def function \n",
    "    randomflip = random.randint(0, 2) #picks either 0 or 1 randomly (50/50 chance of either) \n",
    "    if randomflip == 0 or randomflip == 1: #assigning 0 to be heads--> if 0 is chosen then it will print, \"Heads\"\n",
    "        print(\"Heads\")\n",
    "    else:\n",
    "        if randomflip == 2: #assigning 1 to be tails--> if 1 is chosen then it will print, \"Tails\"\n",
    "            print(\"Tails\")\n",
    "\n",
    "#Tossing the coin 5 times:\n",
    "t1 = coinflip()\n",
    "t2 = coinflip()\n",
    "t3 = coinflip()\n",
    "t4 = coinflip()\n",
    "t5 = coinflip()"
   ]
  },
  {
   "cell_type": "markdown",
   "metadata": {},
   "source": [
    "### Hack #3 - Binary Simulation Problem"
   ]
  },
  {
   "cell_type": "markdown",
   "metadata": {},
   "source": []
  },
  {
   "cell_type": "code",
   "execution_count": 217,
   "metadata": {},
   "outputs": [
    {
     "name": "stdout",
     "output_type": "stream",
     "text": [
      "['Person 0: survived', 'Person 1: survived', 'Person 2: became a zombie', 'Person 3: survived']\n"
     ]
    }
   ],
   "source": [
    "import random\n",
    "\n",
    "def deadoralive(rng):\n",
    "    people = [\"Person 0\", \"Person 1\", \"Person 2\", \"Person 3\"]\n",
    "    \n",
    "    # Generate a random number between 0 and 3 using the RNG from random package\n",
    "    num = rng.randint(0, 3)\n",
    "    \n",
    "    # Convert the number to a binary string\n",
    "    binary = converttobin(num)\n",
    "    \n",
    "    # Assign \"dead\" or \"alive\" status to each person based on the binary digits\n",
    "    for i in range(len(people)):\n",
    "        if binary[i] == \"0\": # Even number (ends in 0 in binary) = survived\n",
    "            people[i] = \"Person \" + str(i) + \":\" + \" survived\"\n",
    "        else:\n",
    "            people[i] = \"Person \" + str(i) + \":\" + \" became a zombie\"\n",
    "    return people\n",
    "\n",
    "\n",
    "people = deadoralive(rng)\n",
    "print(people)\n",
    "\n"
   ]
  },
  {
   "cell_type": "markdown",
   "metadata": {},
   "source": [
    "### Hack #4 - Thinking through a problem\n",
    "- create your own simulation involving a dice roll\n",
    "- should include randomization and a function for rolling + multiple trials"
   ]
  },
  {
   "cell_type": "code",
   "execution_count": 19,
   "metadata": {},
   "outputs": [
    {
     "name": "stdout",
     "output_type": "stream",
     "text": [
      "On roll 1 you rolled: 5\n",
      "On roll 2 you rolled: 2\n",
      "On roll 3 you rolled: 3\n"
     ]
    }
   ],
   "source": [
    "import random\n",
    "for i in range(3):\n",
    "    roll = random.randint(1,6)\n",
    "    print(\"On roll \" + str(i + 1) + \" you rolled: \" + str(roll))"
   ]
  },
  {
   "attachments": {},
   "cell_type": "markdown",
   "metadata": {},
   "source": [
    "### Hack 5 - Applying your knowledge to situation based problems\n",
    "\n",
    "Using the questions bank below, create a quiz that presents the user a random question and calculates the user's score. You can use the template below or make your own. Making your own using a loop can give you extra points. "
   ]
  },
  {
   "attachments": {},
   "cell_type": "markdown",
   "metadata": {},
   "source": [
    "1. A researcher gathers data about the effect of Advanced Placement®︎ classes on students' success in college and career, and develops a simulation to show how a sequence of AP classes affect a hypothetical student's pathway.Several school administrators are concerned that the simulation contains bias favoring high-income students, however.\n",
    "    - answer options:\n",
    "        1. The simulation is an abstraction and therefore cannot contain any bias\n",
    "        2. The simulation may accidentally contain bias due to the exclusion of details.\n",
    "        3. If the simulation is found to contain bias, then it is not possible to remove the bias from the simulation.\n",
    "        4. The only way for the simulation to be biased is if the researcher intentionally used data that favored their desired output.\n",
    "2. Jack is trying to plan his financial future using an online tool. The tool starts off by asking him to input details about his current finances and career. It then lets him choose different future scenarios, such as having children. For each scenario chosen, the tool does some calculations and outputs his projected savings at the ages of 35, 45, and 55.Would that be considered a simulation and why?\n",
    "    - answer options\n",
    "        1. No, it's not a simulation because it does not include a visualization of the results.\n",
    "        2. No, it's not a simulation because it does not include all the details of his life history and the future financial environment.\n",
    "        3. Yes, it's a simulation because it runs on a computer and includes both user input and computed output.\n",
    "        4. Yes, it's a simulation because it is an abstraction of a real world scenario that enables the drawing of inferences.\n",
    "3. Sylvia is an industrial engineer working for a sporting goods company. She is developing a baseball bat that can hit balls with higher accuracy and asks their software engineering team to develop a simulation to verify the design.Which of the following details is most important to include in this simulation?\n",
    "    - answer options\n",
    "        1. Realistic sound effects based on the material of the baseball bat and the velocity of the hit\n",
    "        2. A depiction of an audience in the stands with lifelike behavior in response to hit accuracy\n",
    "        3. Accurate accounting for the effects of wind conditions on the movement of the ball\n",
    "        4. A baseball field that is textured to differentiate between the grass and the dirt\n",
    "4. Ashlynn is an industrial engineer who is trying to design a safer parachute. She creates a computer simulation of the parachute opening at different heights and in different environmental conditions.What are advantages of running the simulation versus an actual experiment?\n",
    "    - answer options\n",
    "        1. The simulation will not contain any bias that favors one body type over another, while an experiment will be biased.\n",
    "        2. The simulation can be run more safely than an actual experiment\n",
    "        3. The simulation will accurately predict the parachute's safety level, while an experiment may be inaccurate due to faulty experimental design.\n",
    "        4. The simulation can test the parachute design in a wide range of environmental conditions that may be difficult to reliably reproduce in an experiment.\n",
    "    * this question has 2 correct answers\n",
    "5. YOUR OWN QUESTION; can be situational, pseudo code based, or vocab/concept based\n",
    "6. YOUR OWN QUESTION; can be situational, pseudo code based, or vocab/concept based"
   ]
  },
  {
   "cell_type": "code",
   "execution_count": 231,
   "metadata": {},
   "outputs": [
    {
     "name": "stdout",
     "output_type": "stream",
     "text": [
      "Question 1:\n",
      "A researcher gathers data about the effect of Advanced Placement®︎ classes on students' success in college and career, and develops a simulation to show how a sequence of AP classes affect a hypothetical student's pathway.Several school administrators are concerned that the simulation contains bias favoring high-income students, however.\n",
      "   Answer options:\n",
      "      1) The simulation is an abstraction and therefore cannot contain any bias\n",
      "      2) The simulation may accidentally contain bias due to the exclusion of details.\n",
      "      3) If the simulation is found to contain bias, then it is not possible to remove the bias from the simulation.\n",
      "      4) The only way for the simulation to be biased is if the researcher intentionally used data that favored their desired output.\n",
      "Correct! The answer was 2\n",
      " \n",
      "Question 2:\n",
      "Jack is trying to plan his financial future using an online tool. The tool starts off by asking him to input details about his current finances and career. It then lets him choose different future scenarios, such as having children. For each scenario chosen, the tool does some calculations and outputs his projected savings at the ages of 35, 45, and 55. Would that be considered a simulation and why?\n",
      "   Answer options:\n",
      "      1) No, it's not a simulation because it does not include a visualization of the results.\n",
      "      2) No, it's not a simulation because it does not include all the details of his life history and the future financial environment.\n",
      "      3) Yes, it's a simulation because it runs on a computer and includes both user input and computed output.\n",
      "      4) Yes, it's a simulation because it is an abstraction of a real world scenario that enables the drawing of inferences.\n",
      "Correct! The answer was 4\n",
      " \n",
      "Question 3:\n",
      "Sylvia is an industrial engineer working for a sporting goods company. She is developing a baseball bat that can hit balls with higher accuracy and asks their software engineering team to develop a simulation to verify the design.Which of the following details is most important to include in this simulation?\n",
      "   Answer options:\n",
      "      1) Realistic sound effects based on the material of the baseball bat and the velocity of the hit\n",
      "      2) A depiction of an audience in the stands with lifelike behavior in response to hit accuracy\n",
      "      3) Accurate accounting for the effects of wind conditions on the movement of the ball\n",
      "      4) A baseball field that is textured to differentiate between the grass and the dirt\n",
      "Correct! The answer was 3\n",
      " \n",
      "Question 4:\n",
      "Ashlynn is an industrial engineer who is trying to design a safer parachute. She creates a computer simulation of the parachute opening at different heights and in different environmental conditions.What are advantages of running the simulation versus an actual experiment (2 correct answers)?\n",
      "   Answer options:\n",
      "      1) The simulation will not contain any bias that favors one body type over another, while an experiment will be biased.\n",
      "      2) The simulation can be run more safely than an actual experiment\n",
      "      3) The simulation will accurately predict the parachute's safety level, while an experiment may be inaccurate due to faulty experimental design.\n",
      "      4) he simulation can test the parachute design in a wide range of environmental conditions that may be difficult to reliably reproduce in an experiment.\n",
      "Incorrect. The correct first answer was 2\n",
      "Incorrect. The correct second answer was 4\n",
      " \n",
      "Question 5: What variables would you least likely need to calculate the expected landing place of a football?\n",
      "\n",
      "   Answer options:\n",
      "      1) Strength of quarterback\n",
      "      2) Wind\n",
      "      3) Smell of the football\n",
      "      4) Weight of football\n",
      "Incorrect. The correct answer was 3\n",
      " \n",
      "Question 6: To predict the hours of sleep someone may get in a night, the variable least likely to be factored into the prediction would be:\n",
      "\n",
      "   Answer options:\n",
      "      1) Muscle strength\n",
      "      2) Hours of sleep from previous night/day\n",
      "      3) Sugar consumption within an hour before sleep\n",
      "      4) Average hours of sleep per day in the past year\n",
      "Correct! The answer was 1\n"
     ]
    }
   ],
   "source": [
    "print(\"Question 1:\")\n",
    "print(\"A researcher gathers data about the effect of Advanced Placement®︎ classes on students' success in college and career, and develops a simulation to show how a sequence of AP classes affect a hypothetical student's pathway.Several school administrators are concerned that the simulation contains bias favoring high-income students, however.\")\n",
    "print(\"   Answer options:\")\n",
    "print(\"      1) The simulation is an abstraction and therefore cannot contain any bias\")\n",
    "print(\"      2) The simulation may accidentally contain bias due to the exclusion of details.\")\n",
    "print(\"      3) If the simulation is found to contain bias, then it is not possible to remove the bias from the simulation.\")\n",
    "print(\"      4) The only way for the simulation to be biased is if the researcher intentionally used data that favored their desired output.\")\n",
    "\n",
    "answer = input(\"Enter the number of your answer choice: \")\n",
    "\n",
    "if answer == \"2\":\n",
    "    print(\"Correct! The answer was 2\")\n",
    "else:\n",
    "    print(\"Incorrect. The correct answer was 2\")\n",
    "\n",
    "\n",
    "print(\" \")\n",
    "print(\"Question 2:\")\n",
    "print(\"Jack is trying to plan his financial future using an online tool. The tool starts off by asking him to input details about his current finances and career. It then lets him choose different future scenarios, such as having children. For each scenario chosen, the tool does some calculations and outputs his projected savings at the ages of 35, 45, and 55. Would that be considered a simulation and why?\")\n",
    "print(\"   Answer options:\")\n",
    "print(\"      1) No, it's not a simulation because it does not include a visualization of the results.\")\n",
    "print(\"      2) No, it's not a simulation because it does not include all the details of his life history and the future financial environment.\")\n",
    "print(\"      3) Yes, it's a simulation because it runs on a computer and includes both user input and computed output.\")\n",
    "print(\"      4) Yes, it's a simulation because it is an abstraction of a real world scenario that enables the drawing of inferences.\")\n",
    "\n",
    "answer1 = input(\"Enter the number of your answer choice: \")\n",
    "\n",
    "if answer1 == \"4\":\n",
    "    print(\"Correct! The answer was 4\")\n",
    "else:\n",
    "    print(\"Incorrect. The correct answer was 4\")\n",
    "\n",
    "\n",
    "print(\" \")\n",
    "print(\"Question 3:\")\n",
    "print(\"Sylvia is an industrial engineer working for a sporting goods company. She is developing a baseball bat that can hit balls with higher accuracy and asks their software engineering team to develop a simulation to verify the design.Which of the following details is most important to include in this simulation?\")\n",
    "print(\"   Answer options:\")\n",
    "print(\"      1) Realistic sound effects based on the material of the baseball bat and the velocity of the hit\")\n",
    "print(\"      2) A depiction of an audience in the stands with lifelike behavior in response to hit accuracy\")\n",
    "print(\"      3) Accurate accounting for the effects of wind conditions on the movement of the ball\")\n",
    "print(\"      4) A baseball field that is textured to differentiate between the grass and the dirt\")\n",
    "\n",
    "answer3 = input(\"Enter the number of your answer choice: \")\n",
    "\n",
    "if answer3 == \"3\":\n",
    "    print(\"Correct! The answer was 3\")\n",
    "else:\n",
    "    print(\"Incorrect. The correct answer was 3\")\n",
    "\n",
    "\n",
    "print(\" \")\n",
    "print(\"Question 4:\")\n",
    "print(\"Ashlynn is an industrial engineer who is trying to design a safer parachute. She creates a computer simulation of the parachute opening at different heights and in different environmental conditions.What are advantages of running the simulation versus an actual experiment (2 correct answers)?\")\n",
    "print(\"   Answer options:\")\n",
    "print(\"      1) The simulation will not contain any bias that favors one body type over another, while an experiment will be biased.\")\n",
    "print(\"      2) The simulation can be run more safely than an actual experiment\")\n",
    "print(\"      3) The simulation will accurately predict the parachute's safety level, while an experiment may be inaccurate due to faulty experimental design.\")\n",
    "print(\"      4) he simulation can test the parachute design in a wide range of environmental conditions that may be difficult to reliably reproduce in an experiment.\")\n",
    "\n",
    "answer4 = input(\"Enter the first number of your answer choice in order: \")\n",
    "answer41 = input(\"Enter the second number of your answer choice in order: \")\n",
    "\n",
    "if answer4 == \"2\":\n",
    "    print(\"Correct! The first answer was 2\")\n",
    "else:\n",
    "    print(\"Incorrect. The correct first answer was 2\")\n",
    "if answer41 == \"4\":\n",
    "    print(\"Correct! The second answer was 4\")\n",
    "else:\n",
    "    print(\"Incorrect. The correct second answer was 4\")\n",
    "    \n",
    "    \n",
    "print(\" \")\n",
    "print(\"Question 5: What variables would you least likely need to calculate the expected landing place of a football?\")\n",
    "print(\"\")\n",
    "print(\"   Answer options:\")\n",
    "print(\"      1) Strength of quarterback\")\n",
    "print(\"      2) Wind\")\n",
    "print(\"      3) Smell of the football\")\n",
    "print(\"      4) Weight of football\")\n",
    "\n",
    "answer5 = input(\"Enter the number of your answer choice: \")\n",
    "\n",
    "if answer5 == \"3\":\n",
    "    print(\"Correct! The answer was 3\")\n",
    "else:\n",
    "    print(\"Incorrect. The correct answer was 3\")\n",
    "    \n",
    "    \n",
    "print(\" \")\n",
    "print(\"Question 6: To predict the hours of sleep someone may get in a night, the variable least likely to be factored into the prediction would be:\")\n",
    "print(\"\")\n",
    "print(\"   Answer options:\")\n",
    "print(\"      1) Muscle strength\")\n",
    "print(\"      2) Hours of sleep from previous night/day\")\n",
    "print(\"      3) Sugar consumption within an hour before sleep\")\n",
    "print(\"      4) Average hours of sleep per day in the past year\")\n",
    "\n",
    "answer6 = input(\"Enter the number of your answer choice: \")\n",
    "\n",
    "if answer6 == \"1\":\n",
    "    print(\"Correct! The answer was 1\")\n",
    "else:\n",
    "    print(\"Incorrect. The correct answer was 1\")\n"
   ]
  },
  {
   "attachments": {},
   "cell_type": "markdown",
   "metadata": {},
   "source": [
    "### Hack #6 / Challenge - Taking real life problems and implementing them into code"
   ]
  },
  {
   "attachments": {},
   "cell_type": "markdown",
   "metadata": {},
   "source": [
    "Create your own simulation based on your experiences/knowledge!\n",
    "Be creative! Think about instances in your own life, science, puzzles that can be made into simulations\n",
    "\n",
    "Some ideas to get your brain running: A simulation that breeds two plants and tells you phenotypes of offspring, an adventure simulation..."
   ]
  },
  {
   "attachments": {},
   "cell_type": "markdown",
   "metadata": {},
   "source": [
    "France vs Argentina win probabilities (1:1 odds) and who scored the winning goal: "
   ]
  },
  {
   "cell_type": "code",
   "execution_count": 230,
   "metadata": {},
   "outputs": [
    {
     "name": "stdout",
     "output_type": "stream",
     "text": [
      "France wins\n",
      "Giroud scored the game winner\n",
      "Argentina wins\n",
      "Di Maria scored the game winner\n",
      "France wins\n",
      "Hernandez scored the game winner\n"
     ]
    }
   ],
   "source": [
    "import random\n",
    "\n",
    "# who wins the match\n",
    "def winninggoalA():\n",
    "    randomscorer = random.randint(0, 3)\n",
    "    if randomscorer == 0: \n",
    "        print(\"Messi scored the game winner\")\n",
    "    else:\n",
    "        if randomscorer == 1: \n",
    "            print(\"Fernandez scored the game winner\")\n",
    "        else:\n",
    "            if randomscorer == 2: \n",
    "                print(\"Alvarez scored the game winner\")\n",
    "            else:\n",
    "                if randomscorer == 3: \n",
    "                    print(\"Di Maria scored the game winner\")\n",
    "                    \n",
    "def winninggoalF():\n",
    "    randomscorer2 = random.randint(0, 3)\n",
    "    if randomscorer2 == 0: \n",
    "        print(\"Mbappe scored the game winner\")\n",
    "    else:\n",
    "        if randomscorer2 == 1: \n",
    "            print(\"Giroud scored the game winner\")\n",
    "        else:\n",
    "            if randomscorer2 == 2: \n",
    "                print(\"Hernandez scored the game winner\")\n",
    "            else:\n",
    "                if randomscorer2 == 3: \n",
    "                    print(\"Griezmann scored the game winner\")\n",
    "                    \n",
    "def probability():\n",
    "    randomodds = random.randint(0, 1)\n",
    "    if randomodds == 0: \n",
    "        print(\"Argentina wins\")\n",
    "        winninggoalA()\n",
    "    else:\n",
    "        print(\"France wins\")\n",
    "        winninggoalF()\n",
    "        \n",
    "probability()\n",
    "probability()\n",
    "probability()"
   ]
  }
 ],
 "metadata": {
  "kernelspec": {
   "display_name": "Python 3.10.6 64-bit",
   "language": "python",
   "name": "python3"
  },
  "language_info": {
   "codemirror_mode": {
    "name": "ipython",
    "version": 3
   },
   "file_extension": ".py",
   "mimetype": "text/x-python",
   "name": "python",
   "nbconvert_exporter": "python",
   "pygments_lexer": "ipython3",
   "version": "3.10.6 (main, Aug 11 2022, 13:37:17) [Clang 13.0.0 (clang-1300.0.29.30)]"
  },
  "orig_nbformat": 4,
  "vscode": {
   "interpreter": {
    "hash": "b0fa6594d8f4cbf19f97940f81e996739fb7646882a419484c72d19e05852a7e"
   }
  }
 },
 "nbformat": 4,
 "nbformat_minor": 2
}
