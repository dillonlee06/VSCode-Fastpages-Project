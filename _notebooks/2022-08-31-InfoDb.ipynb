{
 "cells": [
  {
   "cell_type": "markdown",
   "metadata": {},
   "source": [
    "# \"My InfoDb\"\n",
    "\n",
    "- toc:true\n",
    "- branch: master\n",
    "- badges: true\n",
    "- comments: true\n",
    "- author: Dillon Lee\n",
    "- categories: [CSP Assignments, Week 3]"
   ]
  },
  {
   "cell_type": "code",
   "execution_count": 4,
   "metadata": {},
   "outputs": [
    {
     "name": "stdout",
     "output_type": "stream",
     "text": [
      "[{'FirstName': 'Dillon', 'LastName': 'Lee', 'DOB': 'January 21', 'Residence': 'San Diego', 'Email': 'leedillon005@gmail.com', 'Hobbies': ['Soccer', 'Videogames']}]\n"
     ]
    }
   ],
   "source": [
    "InfoDb = []\n",
    "\n",
    "InfoDb.append({\n",
    "    \"FirstName\": \"Dillon\",\n",
    "    \"LastName\": \"Lee\",\n",
    "    \"DOB\": \"January 21\",\n",
    "    \"Residence\": \"San Diego\",\n",
    "    \"Email\": \"leedillon005@gmail.com\",\n",
    "    \"Hobbies\": [\"Soccer\", \"Videogames\"]\n",
    "})\n",
    "\n",
    "print(InfoDb)"
   ]
  },
  {
   "cell_type": "code",
   "execution_count": 11,
   "metadata": {},
   "outputs": [
    {
     "name": "stdout",
     "output_type": "stream",
     "text": [
      "For loop output\n",
      "\n",
      "Dillon Lee\n",
      "\t Residence: San Diego\n",
      "\t Birth Day: January 21\n",
      "\t Email: leedillon005@gmail.com\n",
      "\t Hobbies: Soccer, Videogames\n",
      "\n"
     ]
    }
   ],
   "source": [
    "\n",
    "def print_data(d_rec):\n",
    "    print(d_rec[\"FirstName\"], d_rec[\"LastName\"])  \n",
    "    print(\"\\t\", \"Residence:\", d_rec[\"Residence\"]) \n",
    "    print(\"\\t\", \"Birth Day:\", d_rec[\"DOB\"])\n",
    "    print(\"\\t\", \"Email:\", d_rec[\"Email\"])\n",
    "    print(\"\\t\", \"Hobbies: \", end=\"\")  \n",
    "    print(\", \".join(d_rec[\"Hobbies\"]))  \n",
    "    print()\n",
    "\n",
    "\n",
    "# for loop algorithm iterates on length of InfoDb\n",
    "def for_loop():\n",
    "    print(\"For loop output\\n\")\n",
    "    for record in InfoDb:\n",
    "        print_data(record)\n",
    "\n",
    "for_loop()"
   ]
  }
 ],
 "metadata": {
  "kernelspec": {
   "display_name": "Python 3.10.6 64-bit",
   "language": "python",
   "name": "python3"
  },
  "language_info": {
   "codemirror_mode": {
    "name": "ipython",
    "version": 3
   },
   "file_extension": ".py",
   "mimetype": "text/x-python",
   "name": "python",
   "nbconvert_exporter": "python",
   "pygments_lexer": "ipython3",
   "version": "3.10.6"
  },
  "orig_nbformat": 4,
  "vscode": {
   "interpreter": {
    "hash": "b0fa6594d8f4cbf19f97940f81e996739fb7646882a419484c72d19e05852a7e"
   }
  }
 },
 "nbformat": 4,
 "nbformat_minor": 2
}
