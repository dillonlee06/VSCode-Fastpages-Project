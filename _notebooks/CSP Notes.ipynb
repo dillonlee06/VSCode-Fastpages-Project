{
 "cells": [
  {
   "cell_type": "markdown",
   "metadata": {},
   "source": [
    "# \"CSP Python Intro Notes\"\n",
    "> \"important terms, commands, etc.\"\n",
    "\n",
    "- toc:true\n",
    "- branch: master\n",
    "- badges: true\n",
    "- comments: true\n",
    "- author: Dillon Lee\n",
    "- categories: [CSP Notes]"
   ]
  },
  {
   "cell_type": "markdown",
   "metadata": {},
   "source": [
    ".ipynb = python file"
   ]
  },
  {
   "cell_type": "code",
   "execution_count": 2,
   "metadata": {},
   "outputs": [
    {
     "name": "stdout",
     "output_type": "stream",
     "text": [
      "Hello World!\n"
     ]
    }
   ],
   "source": [
    "print(\"Hello World!\") #simple hello world print command"
   ]
  },
  {
   "cell_type": "code",
   "execution_count": 1,
   "metadata": {},
   "outputs": [
    {
     "name": "stdout",
     "output_type": "stream",
     "text": [
      "yo\n"
     ]
    }
   ],
   "source": [
    "msg = input(\"Enter a greeting: \") #input and output command\n",
    "print(msg)"
   ]
  },
  {
   "cell_type": "code",
   "execution_count": 2,
   "metadata": {},
   "outputs": [
    {
     "name": "stdout",
     "output_type": "stream",
     "text": [
      "enter something\n",
      "You wrote: yo\n"
     ]
    }
   ],
   "source": [
    "print(\"Enter Something\") #input and output command 2.0\n",
    "s = input()\n",
    "print(\"You wrote:\",s)"
   ]
  },
  {
   "cell_type": "code",
   "execution_count": 2,
   "metadata": {},
   "outputs": [
    {
     "name": "stdout",
     "output_type": "stream",
     "text": [
      "Question: Do you like food?\n",
      "Answer: yes\n",
      "Question: Do you play a sport?\n",
      "Answer: yes, soccer\n",
      "Question: What's your favorite class?\n",
      "Answer: CSP!\n"
     ]
    }
   ],
   "source": [
    "def question_and_answer(prompt): #question and answer command\n",
    "    print(\"Question: \" + prompt)\n",
    "    msg = input()\n",
    "    print(\"Answer: \" + msg)\n",
    "\n",
    "question_and_answer(\"Do you like food?\")\n",
    "question_and_answer(\"Do you play a sport?\")\n",
    "question_and_answer(\"What's your favorite class?\")"
   ]
  },
  {
   "cell_type": "code",
   "execution_count": 6,
   "metadata": {},
   "outputs": [
    {
     "name": "stdout",
     "output_type": "stream",
     "text": [
      "Hello, dillonlee running /opt/homebrew/opt/python@3.10/bin/python3.10\n",
      "You will be asked 3 questions.\n",
      "Question: Are you ready to take a test?\n",
      "Question: What command is used to include other functions that were previously developed?\n",
      "import is correct!\n",
      "Question: What command is used to evaluate correct or incorrect response in this example?\n",
      "i dont know is incorrect!\n",
      "Question: Each 'if' command contains an '_________' to determine a true or false condition?\n",
      "expression is correct!\n",
      "dillonlee you scored 2/3\n"
     ]
    }
   ],
   "source": [
    "import getpass, sys #\n",
    "\n",
    "def question_with_response(prompt):\n",
    "    print(\"Question: \" + prompt)\n",
    "    msg = input()\n",
    "    return msg\n",
    "\n",
    "questions = 3\n",
    "correct = 0\n",
    "\n",
    "print('Hello, ' + getpass.getuser() + \" running \" + sys.executable)\n",
    "print(\"You will be asked \" + str(questions) + \" questions.\")\n",
    "question_with_response(\"Are you ready to take a test?\")\n",
    "\n",
    "rsp = question_with_response(\"What command is used to include other functions that were previously developed?\")\n",
    "if rsp == \"import\":\n",
    "    print(rsp + \" is correct!\")\n",
    "    correct += 1\n",
    "else:\n",
    "    print(rsp + \" is incorrect!\")\n",
    "\n",
    "rsp = question_with_response(\"What command is used to evaluate correct or incorrect response in this example?\")\n",
    "if rsp == \"if\":\n",
    "    print(rsp + \" is correct!\")\n",
    "    correct += 1\n",
    "else:\n",
    "    print(rsp + \" is incorrect!\")\n",
    "\n",
    "rsp = question_with_response(\"Each 'if' command contains an '_________' to determine a true or false condition?\")\n",
    "if rsp == \"expression\":\n",
    "    print(rsp + \" is correct!\")\n",
    "    correct += 1\n",
    "else:\n",
    "    print(rsp + \" is incorrect!\")\n",
    "\n",
    "print(getpass.getuser() + \" you scored \" + str(correct) +\"/\" + str(questions))"
   ]
  }
 ],
 "metadata": {
  "kernelspec": {
   "display_name": "Python 3.10.6 64-bit",
   "language": "python",
   "name": "python3"
  },
  "language_info": {
   "codemirror_mode": {
    "name": "ipython",
    "version": 3
   },
   "file_extension": ".py",
   "mimetype": "text/x-python",
   "name": "python",
   "nbconvert_exporter": "python",
   "pygments_lexer": "ipython3",
   "version": "3.10.6"
  },
  "orig_nbformat": 4,
  "vscode": {
   "interpreter": {
    "hash": "b0fa6594d8f4cbf19f97940f81e996739fb7646882a419484c72d19e05852a7e"
   }
  }
 },
 "nbformat": 4,
 "nbformat_minor": 2
}
