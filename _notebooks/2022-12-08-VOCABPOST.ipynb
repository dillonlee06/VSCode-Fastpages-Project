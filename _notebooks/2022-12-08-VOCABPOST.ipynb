{
 "cells": [
  {
   "cell_type": "markdown",
   "metadata": {},
   "source": [
    "# Lesson Vocab Page\n",
    "\n",
    "- toc:true\n",
    "- branch: master\n",
    "- badges: true\n",
    "- comments: true\n",
    "- author: Dillon Lee\n",
    "- categories: [CSP Notes]"
   ]
  },
  {
   "cell_type": "markdown",
   "metadata": {},
   "source": [
    "# Variables, Data Types, Assignment Operators\n",
    "\n",
    "- Variables: Abstractions in programs that represent a value\n",
    "- Data Types: Numbers (integers, 123), Booleans (t/f), lists (items held in an order), strings (letters/words)\n",
    "- Assignment Operators: \n",
    "\n",
    "<table>\n",
    "    <tr>\n",
    "        <th>Function</th>\n",
    "        <th>Operator</th>\n",
    "    </tr>\n",
    "    <tr>\n",
    "        <td>greater than</td>\n",
    "        <td>></td>\n",
    "    </tr>\n",
    "    <tr>\n",
    "        <td>less than</td>\n",
    "        <td><</td>\n",
    "    </tr>\n",
    "    <tr>\n",
    "        <td>greater than or equal to</td>\n",
    "        <td>>=</td>\n",
    "    </tr>\n",
    "    <tr>\n",
    "        <td>less than or equal to</td>\n",
    "        <td><=</td>\n",
    "    </tr>\n",
    "    <tr>\n",
    "        <td>equal to</td>\n",
    "        <td>==</td>\n",
    "    </tr>\n",
    "    <tr>\n",
    "        <td>not equal to</td>\n",
    "        <td>!=</td>\n",
    "    </tr>\n",
    "    <tr>\n",
    "        <td>exponent</td>\n",
    "        <td>**</td>\n",
    "    </tr>\n",
    "    <tr>\n",
    "        <td>addition</td>\n",
    "        <td>+</td>\n",
    "    </tr>\n",
    "    <tr>\n",
    "        <td>subtraction</td>\n",
    "        <td>-</td>\n",
    "    </tr>\n",
    "    <tr>\n",
    "        <td>multiplication</td>\n",
    "        <td>*</td>\n",
    "    </tr>\n",
    "    <tr>\n",
    "        <td>division</td>\n",
    "        <td>/</td>\n",
    "    </tr>\n",
    "    <tr>\n",
    "        <td>modulus: x & y = x - (x/y) * y</td>\n",
    "        <td>%</td>\n",
    "    </tr>\n",
    "    <tr>\n",
    "        <td>Equal sign usage</td>\n",
    "        <td>=, +=, -=, *=, /=, %= | EX: x+=10 is x = x + 10</td>\n",
    "    </tr>\n",
    "</table>\n"
   ]
  },
  {
   "cell_type": "code",
   "execution_count": 1,
   "metadata": {},
   "outputs": [
    {
     "name": "stdout",
     "output_type": "stream",
     "text": [
      "20\n",
      "100\n"
     ]
    }
   ],
   "source": [
    "# PYTHON example usage of variables, numbers, assignment operators (multiply/exponent)\n",
    "number = 10  #defining the variable to number 10\n",
    "x = number ** 2  #defining another variable by using that number variable\n",
    "print(number*2)  # multiplying a variable by 2\n",
    "print(x) # printing the second defined variable"
   ]
  },
  {
   "cell_type": "markdown",
   "metadata": {},
   "source": [
    "# Managing Complexity with Variables:  Lists, 2D Lists, Dictionaries, Class\n",
    "Lists: A collection of items in an order\n",
    "2D Lists: A list containing other lists\n",
    "Dictionaries: Similar to a list but the items in the collection are assigned a value\n",
    "Class: Template for objects which defines behaviors of objects and organizes it"
   ]
  },
  {
   "cell_type": "code",
   "execution_count": 2,
   "metadata": {},
   "outputs": [],
   "source": [
    "# PYTHON 2D list example\n",
    "keypad =   [[1, 2, 3],\n",
    "            [4, 5, 6],\n",
    "            [7, 8, 9],\n",
    "            [\" \", 0, \" \"]]"
   ]
  },
  {
   "cell_type": "code",
   "execution_count": 1,
   "metadata": {
    "vscode": {
     "languageId": "javascript"
    }
   },
   "outputs": [
    {
     "name": "stdout",
     "output_type": "stream",
     "text": [
      "[ 'NAME 1', 'NAME 2', 'NAME 3', 'NAME 4' ]\n"
     ]
    }
   ],
   "source": [
    "// JAVASCRIPT example using variables and lists\n",
    "const group = [\n",
    "    \"NAME 1\", \n",
    "    \"NAME 2\", \n",
    "    \"NAME 3\", \n",
    "    \"NAME 4\"\n",
    "]; \n",
    "console.log(group);"
   ]
  },
  {
   "cell_type": "code",
   "execution_count": 4,
   "metadata": {
    "vscode": {
     "languageId": "javascript"
    }
   },
   "outputs": [],
   "source": [
    "// JAVASCRIPT example of a dictionary\n",
    "\n",
    "const myDictionary = {\n",
    "    key1: \"value1\",\n",
    "    key2: \"value2\",\n",
    "    key3: \"value3\"\n",
    "  };"
   ]
  },
  {
   "cell_type": "markdown",
   "metadata": {},
   "source": [
    "# Algorithms, Sequence, Selection, Iteration\n",
    "- Algorithms: A series of operations that completes a task/solves a problem \n",
    "- Sequence: Sequence is the order in which commands are executed \n",
    "- Selection: Determines which \"path\" of operations a program will run\n",
    "- Iteration: Iteration is repetition - it is a way to repeat a function over and over until a condition is met rather than copy pasting the function"
   ]
  },
  {
   "cell_type": "code",
   "execution_count": 1,
   "metadata": {},
   "outputs": [
    {
     "name": "stdout",
     "output_type": "stream",
     "text": [
      "Multiplying 2 by 8 four times:\n",
      "16\n",
      "128\n",
      "1024\n",
      "8192\n"
     ]
    }
   ],
   "source": [
    "# PYTHON example that will multiply 2 by 8 four times in a while loop rather than copy pasting the function four times (Iteration/Algorithm)\n",
    "number = 2\n",
    "def multiplyby8_4times(num):\n",
    "    i = 0 \n",
    "    while i < 4: \n",
    "        num = num * 8\n",
    "        print(num)\n",
    "        i += 1 \n",
    "multiplyby8_4times(number)"
   ]
  },
  {
   "cell_type": "markdown",
   "metadata": {},
   "source": [
    "# Expressions, Comparison Operators, Booleans Expressions and Selection, Booleans \n",
    "- Expressions: A combination of operators (functions) and operands (numbers) that produces an output value\n",
    "- Booleans Expressions and Selection: expression is a logical statement that is either true or false / selection is the procedure to get the output\n",
    "- Booleans: functions that produce True or False outputs\n",
    "- Comparison Operators:\n",
    "\n",
    "<table>\n",
    "    <tr>\n",
    "        <th>Function</th>\n",
    "        <th>Operator</th>\n",
    "    </tr>\n",
    "    <tr>\n",
    "        <td>greater than</td>\n",
    "        <td>></td>\n",
    "    </tr>\n",
    "    <tr>\n",
    "        <td>less than</td>\n",
    "        <td><</td>\n",
    "    </tr>\n",
    "    <tr>\n",
    "        <td>greater than or equal to</td>\n",
    "        <td>>=</td>\n",
    "    </tr>\n",
    "    <tr>\n",
    "        <td>less than or equal to</td>\n",
    "        <td><=</td>\n",
    "    </tr>\n",
    "    <tr>\n",
    "        <td>equal to</td>\n",
    "        <td>==</td>\n",
    "    </tr>\n",
    "    <tr>\n",
    "        <td>not equal to</td>\n",
    "        <td>!=</td>\n",
    "    </tr>\n",
    "</table>"
   ]
  },
  {
   "cell_type": "code",
   "execution_count": 2,
   "metadata": {
    "vscode": {
     "languageId": "javascript"
    }
   },
   "outputs": [
    {
     "data": {
      "text/plain": [
       "false"
      ]
     },
     "execution_count": 2,
     "metadata": {},
     "output_type": "execute_result"
    }
   ],
   "source": [
    "// JAVASCRIPT example using variables, less than operators and boolean\n",
    "const w = 4\n",
    "const q = 1\n",
    "Boolean(w < q)"
   ]
  },
  {
   "cell_type": "markdown",
   "metadata": {},
   "source": [
    "# Expressions and Iteration, Truth Tables\n",
    "- Expressions: Combination of operators and values to produce a new value\n",
    "- Iteration: Repetition, repeat a function over and over using a loop until a condition is met rather than copy pasting the function\n",
    "- Truth Tables: A mathematical table that is used to represent the truth values of a logical expression\n",
    "\n",
    "![]({{site.baseurl}}/images/truthtable.png \"Truth Table\")\n",
    "\n",
    "In this truth table, the input values for the expression are the values of A and B, and the output value is the value of the expression \"A and B\". The table lists all possible combinations of input values for A and B, and the corresponding output value that the expression evaluates to for each combination."
   ]
  },
  {
   "cell_type": "code",
   "execution_count": 2,
   "metadata": {},
   "outputs": [
    {
     "name": "stdout",
     "output_type": "stream",
     "text": [
      "1 times 2 is equal to 2.\n",
      "2 times 2 is equal to 4.\n",
      "3 times 2 is equal to 6.\n",
      "4 times 2 is equal to 8.\n"
     ]
    }
   ],
   "source": [
    "# Another PYTHON iteration example \n",
    "numlist = [1, 2, 3, 4] \n",
    "for number in numlist:\n",
    "    prod = number * 2\n",
    "    print(str(number), \"times 2 is equal to\", str(prod) + \".\")"
   ]
  }
 ],
 "metadata": {
  "kernelspec": {
   "display_name": "Python 3.8.9 64-bit",
   "language": "python",
   "name": "python3"
  },
  "language_info": {
   "codemirror_mode": {
    "name": "ipython",
    "version": 3
   },
   "file_extension": ".py",
   "mimetype": "text/x-python",
   "name": "python",
   "nbconvert_exporter": "python",
   "pygments_lexer": "ipython3",
   "version": "3.8.9"
  },
  "orig_nbformat": 4,
  "vscode": {
   "interpreter": {
    "hash": "31f2aee4e71d21fbe5cf8b01ff0e069b9275f58929596ceb00d14d90e3e16cd6"
   }
  }
 },
 "nbformat": 4,
 "nbformat_minor": 2
}
