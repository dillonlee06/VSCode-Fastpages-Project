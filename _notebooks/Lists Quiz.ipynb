{
 "cells": [
  {
   "cell_type": "markdown",
   "metadata": {},
   "source": [
    "# \"Lists Quiz\"\n",
    "\n",
    "- toc:true\n",
    "- branch: master\n",
    "- badges: true\n",
    "- comments: true\n",
    "- author: Dillon Lee\n",
    "- categories: [CSP Assignments, Week 3]"
   ]
  },
  {
   "cell_type": "code",
   "execution_count": null,
   "metadata": {},
   "outputs": [],
   "source": [
    "InfoDb = []\n",
    "\n",
    "InfoDb.append({\n",
    "    \"FirstName\": \"Dillon\",\n",
    "    \"LastName\": \"Lee\",\n",
    "    \"DOB\": \"January 21\",\n",
    "    \"Residence\": \"San Diego\",\n",
    "    \"Email\": \"leedillon005@gmail.com\",\n",
    "    \"Hobbies\": [\"Soccer\", \"Videogames\"]\n",
    "})\n",
    "\n",
    "print(InfoDb)"
   ]
  },
  {
   "cell_type": "code",
   "execution_count": null,
   "metadata": {},
   "outputs": [],
   "source": [
    "\n",
    "def print_data(d_rec):\n",
    "    print(d_rec[\"FirstName\"], d_rec[\"LastName\"])  \n",
    "    print(\"\\t\", \"Residence:\", d_rec[\"Residence\"]) \n",
    "    print(\"\\t\", \"Birth Day:\", d_rec[\"DOB\"])\n",
    "    print(\"\\t\", \"Email:\", d_rec[\"Email\"])\n",
    "    print(\"\\t\", \"Hobbies: \", end=\"\")  \n",
    "    print(\", \".join(d_rec[\"Hobbies\"]))  \n",
    "    print()\n",
    "\n",
    "\n",
    "# for loop algorithm iterates on length of InfoDb\n",
    "def for_loop():\n",
    "    print(\"For loop output\\n\")\n",
    "    for record in InfoDb:\n",
    "        print_data(record)\n",
    "\n",
    "for_loop()"
   ]
  },
  {
   "cell_type": "code",
   "execution_count": 10,
   "metadata": {},
   "outputs": [
    {
     "name": "stdout",
     "output_type": "stream",
     "text": [
      "Hello Dillon welcome to the quiz world\n",
      "Which room is CSP in?\n",
      "a. A101\n",
      "b. A111\n",
      "c. A115\n",
      "d. D114\n",
      "correct answer, you got 1 point\n",
      "Which teacher is the best teacher?\n",
      "a. Mrs. Mansour\n",
      "b. Mrs. Roberts\n",
      "c. Mr. Yeung\n",
      "d. I hate all teachers\n",
      "correct answer, you got 1 point\n",
      "255+1534?\n",
      "a. 1999\n",
      "b. 1509\n",
      "c. 1489\n",
      "d. 1789\n",
      "wrong answer, you lost 1 point\n",
      "Final score is: 1\n"
     ]
    }
   ],
   "source": [
    "q1 = \"\"\"Which room is CSP in?\n",
    "a. A101\n",
    "b. A111\n",
    "c. A115\n",
    "d. D114\"\"\"\n",
    "q2 = \"\"\"Which teacher is the best teacher?\n",
    "a. Mrs. Mansour\n",
    "b. Mrs. Roberts\n",
    "c. Mr. Yeung\n",
    "d. I hate all teachers\"\"\"\n",
    "q3 = \"\"\"255+1534?\n",
    "a. 1999\n",
    "b. 1509\n",
    "c. 1489\n",
    "d. 1789\"\"\"\n",
    "\n",
    "questions = {q1 : \"a\",q2 : \"c\",q3 : \"d\"}\n",
    "\n",
    "name = input(\"Enter your name: \")\n",
    "print(\"Hello\",name, \"welcome to the quiz world\")\n",
    "score=0\n",
    "for i in questions:\n",
    "    print(i)\n",
    "    ans = input(\"enter the answer(a/b/c/d) : \")\n",
    "    if ans==questions[i]:\n",
    "        print(\"correct answer, you got 1 point\")\n",
    "        score = score+1\n",
    "    else:\n",
    "        print(\"wrong answer, you lost 1 point\")\n",
    "        score=score-1\n",
    "print(\"Final score is:\", score)"
   ]
  }
 ],
 "metadata": {
  "kernelspec": {
   "display_name": "Python 3.10.6 64-bit",
   "language": "python",
   "name": "python3"
  },
  "language_info": {
   "codemirror_mode": {
    "name": "ipython",
    "version": 3
   },
   "file_extension": ".py",
   "mimetype": "text/x-python",
   "name": "python",
   "nbconvert_exporter": "python",
   "pygments_lexer": "ipython3",
   "version": "3.10.6"
  },
  "orig_nbformat": 4,
  "vscode": {
   "interpreter": {
    "hash": "b0fa6594d8f4cbf19f97940f81e996739fb7646882a419484c72d19e05852a7e"
   }
  }
 },
 "nbformat": 4,
 "nbformat_minor": 2
}
