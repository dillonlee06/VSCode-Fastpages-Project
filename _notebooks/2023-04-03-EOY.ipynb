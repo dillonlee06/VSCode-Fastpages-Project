{
 "cells": [
  {
   "attachments": {},
   "cell_type": "markdown",
   "metadata": {},
   "source": [
    "#  Unit 1.5\n",
    "> Developing Backend 3rd Party APIs with analysis and cleaning Python, Flask, Pandas \n",
    "- toc: true\n",
    "- permalink: /Unit1.5"
   ]
  },
  {
   "attachments": {},
   "cell_type": "markdown",
   "metadata": {},
   "source": [
    "# 3rd Party APIs Example"
   ]
  },
  {
   "cell_type": "code",
   "execution_count": 1,
   "metadata": {},
   "outputs": [
    {
     "name": "stdout",
     "output_type": "stream",
     "text": [
      "home_team Chelsea\n",
      "away_team Milan\n",
      "id 218522\n",
      "market classic\n",
      "competition_name grp. E\n",
      "prediction X2\n",
      "competition_cluster Champions League\n",
      "status lost\n",
      "federation UEFA\n",
      "is_expired True\n",
      "season 2022 - 2023\n",
      "result 3 - 0\n",
      "start_date 2022-10-05T20:00:00\n",
      "last_update_at 2022-10-05T17:09:19.757643\n",
      "odds {'1': 1.711, 'X': 3.904, '2': 4.95, '1X': 1.177, 'X2': 2.134, '12': 1.254}\n"
     ]
    }
   ],
   "source": [
    "import requests\n",
    "\n",
    "url = \"https://football-prediction-api.p.rapidapi.com/api/v2/predictions\"\n",
    "\n",
    "querystring = {\"market\":\"classic\",\"iso_date\":\"2022-10-05\",\"federation\":\"UEFA\"}\n",
    "\n",
    "headers = {\n",
    "\t\"X-RapidAPI-Key\": \"686830ba27msh513db9752c312c4p1115d7jsn310f307263ee\",\n",
    "\t\"X-RapidAPI-Host\": \"football-prediction-api.p.rapidapi.com\"\n",
    "}\n",
    "\n",
    "response = requests.request(\"GET\", url, headers=headers, params=querystring)\n",
    "\n",
    "# print(response.text)\n",
    "\n",
    "\n",
    "teams = response.json().get('data')\n",
    "for team in teams:  # the specific team in the list of teams/games on the day\n",
    "    if team[\"home_team\"] == \"Chelsea\":  # this filters for the team Chelsea\n",
    "        for key, value in team.items():  # this finds the Chelsea game and the statistics of the game\n",
    "            print(key, value)"
   ]
  },
  {
   "attachments": {},
   "cell_type": "markdown",
   "metadata": {},
   "source": [
    "Hacks: "
   ]
  },
  {
   "cell_type": "code",
   "execution_count": null,
   "metadata": {},
   "outputs": [],
   "source": []
  }
 ],
 "metadata": {
  "kernelspec": {
   "display_name": "base",
   "language": "python",
   "name": "python3"
  },
  "language_info": {
   "codemirror_mode": {
    "name": "ipython",
    "version": 3
   },
   "file_extension": ".py",
   "mimetype": "text/x-python",
   "name": "python",
   "nbconvert_exporter": "python",
   "pygments_lexer": "ipython3",
   "version": "3.10.9"
  },
  "orig_nbformat": 4
 },
 "nbformat": 4,
 "nbformat_minor": 2
}
