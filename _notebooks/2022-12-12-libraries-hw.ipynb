{
 "cells": [
  {
   "attachments": {},
   "cell_type": "markdown",
   "metadata": {},
   "source": [
    "# Unit 3 Sections 14-15 Homework\n",
    "> Here are the instructions for the homework for sections 14-15.\n",
    "\n",
    "- toc: true\n",
    "- comments: true\n",
    "- categories: [CSP Notes]\n",
    "- image: /images/college-board-logo.png"
   ]
  },
  {
   "attachments": {},
   "cell_type": "markdown",
   "metadata": {},
   "source": [
    "Create a program that asks the user for a day and then gives them a distance in days between that day and another random day in the year. We have provided you with a possible starter, but you are welcome to change it up if you would like."
   ]
  },
  {
   "cell_type": "code",
   "execution_count": 12,
   "metadata": {},
   "outputs": [
    {
     "name": "stdout",
     "output_type": "stream",
     "text": [
      "Input a day\n",
      "12\n",
      "Input a day\n",
      "12\n",
      "Input a year\n",
      "2022\n",
      "User day: 12/12/2022\n",
      "Random day: 2/28/2022\n",
      "The number of days between the given range of dates is: 248\n"
     ]
    }
   ],
   "source": [
    "from datetime import date\n",
    "import random\n",
    "\n",
    "days_dictionary = {\n",
    "    1: 31,\n",
    "    2: 28,\n",
    "    3: 31,\n",
    "    4: 30,\n",
    "    5: 31,\n",
    "    6: 30,\n",
    "    7: 31,\n",
    "    8: 31,\n",
    "    9: 30,\n",
    "    10: 31,\n",
    "    11: 30,\n",
    "    12: 31,\n",
    "}\n",
    "\n",
    "print(\"Input a day\")\n",
    "day = int(input(\"Input a day\"))\n",
    "print(str(day))\n",
    "print(\"Input a day\")\n",
    "month = int(input(\"Input a month\"))\n",
    "print(str(month))\n",
    "print(\"Input a year\")\n",
    "year = int(input(\"Input a year\"))\n",
    "print(str(year))\n",
    "print(\"User day: \" + str(month) + \"/\" + str(day) + \"/\" + str(year))\n",
    "\n",
    "randommonth = random.randint(1,12)\n",
    "randomday1 = days_dictionary.get(randommonth)\n",
    "randomday = random.randint(0,randomday1)\n",
    "print(\"Random day: \" + str(randommonth) + \"/\" + str(randomday) + \"/\" + str(year))\n",
    "\n",
    "def ndays(month,day):\n",
    "    num = 0\n",
    "    for i in range (1,month):\n",
    "        num += (days_dictionary.get(i))\n",
    "    num += int(day)\n",
    "    return(num)\n",
    "\n",
    "num1 = ndays(month,day)\n",
    "num2 = ndays(randommonth,randomday)\n",
    "math = abs(uabs - rabs)\n",
    "\n",
    "print(\"The number of days between the given range of dates is: \" + str(diff))\n",
    "# expected output shown below (or something similar)"
   ]
  },
  {
   "attachments": {},
   "cell_type": "markdown",
   "metadata": {},
   "source": [
    "code explained:\n",
    "The code imports the datetime and random modules, which are used to create date objects and generate random numbers, respectively.\n",
    "The code creates a dictionary that maps each month to the number of days in that month. This is used later to calculate the number of days between two dates.\n",
    "The code asks the user for a day, month, and year, and then uses the datetime.date() function to create a date object from these values.\n",
    "The code generates a random day and month using the random.randint() function, and then creates a date object from these values and the user-specified year.\n",
    "The code defines a ndays() function that takes a month and day as arguments, and returns the number of days that have passed since the beginning of the year up to the given date.\n",
    "The code calls the ndays() function twice, once for the user-specified date and once for the random date, and assigns the result to the num1 and num2 variables.\n",
    "The code calculates the difference between num1 and num2 using the abs() function, which returns the absolute value of the difference, and assigns the result to the math variable.\n",
    "The code prints the value of the math variable, which is the number of days between the user-specified date and the random date."
   ]
  }
 ],
 "metadata": {
  "kernelspec": {
   "display_name": "Python 3.10.6 64-bit",
   "language": "python",
   "name": "python3"
  },
  "language_info": {
   "codemirror_mode": {
    "name": "ipython",
    "version": 3
   },
   "file_extension": ".py",
   "mimetype": "text/x-python",
   "name": "python",
   "nbconvert_exporter": "python",
   "pygments_lexer": "ipython3",
   "version": "3.10.6"
  },
  "orig_nbformat": 4,
  "vscode": {
   "interpreter": {
    "hash": "b0fa6594d8f4cbf19f97940f81e996739fb7646882a419484c72d19e05852a7e"
   }
  }
 },
 "nbformat": 4,
 "nbformat_minor": 2
}
